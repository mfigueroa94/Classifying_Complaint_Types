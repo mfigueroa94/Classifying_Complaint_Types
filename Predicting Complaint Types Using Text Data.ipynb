{
 "cells": [
  {
   "cell_type": "markdown",
   "metadata": {},
   "source": [
    "# Homework 4: Modeling Text Data\n",
    "\n",
    "### Team Member 1:\n",
    "* UNI: mf3090\n",
    "* Name: Michael Figueroa\n",
    "\n",
    "### Team Member 2:\n",
    "* UNI: baa2146\n",
    "* Name: Brett Averso\n"
   ]
  },
  {
   "cell_type": "markdown",
   "metadata": {},
   "source": [
    "### Task\n",
    "The task is to do text classification on a dataset of complaints about traffic conditions to the city of Boston. You can find the data here: https://data.boston.gov/dataset/vision-zero-entry\n",
    "There are two goals:\n",
    "First, try to predict the type of complaint (“REQUESTTYPE”) from the complaint text.\n",
    "Second, try to come up with a better categorization of the data into semantic categories."
   ]
  },
  {
   "cell_type": "markdown",
   "metadata": {},
   "source": [
    "# Task1 - Data Cleaning  [10 points]"
   ]
  },
  {
   "cell_type": "markdown",
   "metadata": {},
   "source": [
    "Load the data, visualize the class distribution. Clean up the target labels. Some categories have been arbitrarily split and need to be consolidated. "
   ]
  },
  {
   "cell_type": "code",
   "execution_count": 1,
   "metadata": {
    "collapsed": false
   },
   "outputs": [
    {
     "name": "stdout",
     "output_type": "stream",
     "text": [
      "C:\\Users\\Michael\\Documents\\COMS 4995 Applied  ML\\Homework 4\\data\n"
     ]
    }
   ],
   "source": [
    "cd data"
   ]
  },
  {
   "cell_type": "code",
   "execution_count": 2,
   "metadata": {
    "collapsed": false
   },
   "outputs": [],
   "source": [
    "%matplotlib inline\n",
    "import matplotlib.pyplot as plt\n",
    "import numpy as np\n",
    "import pandas as pd\n",
    "from io import StringIO\n",
    "from sklearn.feature_extraction.text import CountVectorizer, TfidfVectorizer, TfidfTransformer, HashingVectorizer"
   ]
  },
  {
   "cell_type": "code",
   "execution_count": 3,
   "metadata": {
    "collapsed": true
   },
   "outputs": [],
   "source": [
    "from sklearn.model_selection import train_test_split\n",
    "from sklearn.model_selection import cross_val_score\n",
    "from sklearn.model_selection import GridSearchCV\n",
    "from sklearn.pipeline import make_pipeline\n",
    "from sklearn.linear_model import LogisticRegression, LogisticRegressionCV\n",
    "from sklearn.naive_bayes import MultinomialNB\n",
    "from sklearn.metrics import confusion_matrix, f1_score, classification_report\n",
    "from sklearn.ensemble import RandomForestClassifier\n",
    "from sklearn.discriminant_analysis import LinearDiscriminantAnalysis\n",
    "from sklearn.preprocessing import Normalizer\n",
    "from sklearn.metrics import adjusted_rand_score\n",
    "import itertools"
   ]
  },
  {
   "cell_type": "code",
   "execution_count": 4,
   "metadata": {
    "collapsed": true
   },
   "outputs": [],
   "source": [
    "from sklearn.decomposition import LatentDirichletAllocation\n",
    "from sklearn.decomposition import NMF\n",
    "from sklearn.cluster import KMeans\n",
    "from sklearn.neural_network import MLPClassifier"
   ]
  },
  {
   "cell_type": "code",
   "execution_count": 5,
   "metadata": {
    "collapsed": false
   },
   "outputs": [],
   "source": [
    "complaints = pd.read_csv(\"Vision_Zero_Entry.csv\")"
   ]
  },
  {
   "cell_type": "code",
   "execution_count": 6,
   "metadata": {
    "collapsed": true
   },
   "outputs": [],
   "source": [
    "# Keep only rows for which the comments section has a value\n",
    "complaints = complaints[complaints['COMMENTS'].notnull()]\n",
    "\n",
    "# Keep on rows for which the comments section does not say 'Test'\n",
    "complaints = complaints[complaints['COMMENTS'] != 'Test']"
   ]
  },
  {
   "cell_type": "code",
   "execution_count": 7,
   "metadata": {
    "collapsed": false
   },
   "outputs": [
    {
     "data": {
      "text/plain": [
       "(of something that is not listed here                                                                         1422\n",
       " bike facilities don't exist or need improvement                                                               782\n",
       " people speed                                                                                                  745\n",
       " people run red lights / stop signs                                                                            662\n",
       " people don't yield while turning                                                                              461\n",
       " people double park their vehicles                                                                             426\n",
       " it’s hard to see / low visibility                                                                             389\n",
       " sidewalks/ramps don't exist or need improvement                                                               301\n",
       " people don't yield while going straight                                                                       264\n",
       " people cross away from the crosswalks                                                                         254\n",
       " the roadway surface needs improvement                                                                         221\n",
       " the wait for the \"Walk\" signal is too long                                                                    201\n",
       " there are no bike facilities or they need maintenance                                                         128\n",
       " there's not enough time to cross the street                                                                   121\n",
       " it's too far / too many lanes to cross                                                                         83\n",
       " there are no sidewalks or they need maintenance                                                                40\n",
       " the roadway surface needs maintenance                                                                          34\n",
       " it’s hard for people to see each other                                                                         28\n",
       " people have to wait too long for the \"Walk\" signal                                                             27\n",
       " people have to cross too many lanes / too far                                                                  26\n",
       " people are not given enough time to cross the street                                                            9\n",
       " \" src=\"images/14 - Other issue.png\"></span>&nbsp;of something that is not listed here                           3\n",
       " \" src=\"images/11 - Sidewalk issue.png\"></span>&nbsp;sidewalks/ramps don't exist or need improvement             2\n",
       " \" src=\"images/02 - Wait is too long.png\"></span>&nbsp;the wait for the \"Walk\" signal is too long                2\n",
       " \" src=\"images/10 - Hard to see.png\"></span>&nbsp;it’s hard to see / low visibility                              2\n",
       " \" src=\"images/01 - Not enough time to cross.png\"></span>&nbsp;there's not enough time to cross the street       1\n",
       " \" src=\"images/12 - Bike facility issue.png\"></span>&nbsp;the roadway surface needs improvement                  1\n",
       " \" src=\"images/06 - Speeding.png\"></span>&nbsp;people speed                                                      1\n",
       " Name: REQUESTTYPE, dtype: int64, (28,))"
      ]
     },
     "execution_count": 7,
     "metadata": {},
     "output_type": "execute_result"
    }
   ],
   "source": [
    "complaints.REQUESTTYPE.value_counts() , complaints.REQUESTTYPE.value_counts().shape"
   ]
  },
  {
   "cell_type": "code",
   "execution_count": 8,
   "metadata": {
    "collapsed": false
   },
   "outputs": [],
   "source": [
    "# Cleaning the target variable and consolidating categories manually\n",
    "\n",
    "complaints['REQUESTTYPE'] = complaints['REQUESTTYPE'].replace('.*;(.*)', '\\\\1', regex = True)\n",
    "complaints['REQUESTTYPE'] = complaints['REQUESTTYPE'].replace('\\\"', '', regex = True)\n",
    "complaints['REQUESTTYPE'] = complaints['REQUESTTYPE'].replace(\"there's not enough time to cross the street\", \"people are not given enough time to cross the street\", regex = True)\n",
    "complaints['REQUESTTYPE'] = complaints['REQUESTTYPE'].replace(\"the roadway surface needs improvement\", \"the roadway surface needs maintenance\", regex = True)\n",
    "complaints['REQUESTTYPE'] = complaints['REQUESTTYPE'].replace(\"it's too far / too many lanes to cross\", \"people have to cross too many lanes / too far\", regex = True)\n",
    "complaints['REQUESTTYPE'] = complaints['REQUESTTYPE'].replace(\"there are no sidewalks or they need maintenance\", \"sidewalks/ramps don't exist or need improvement\", regex = True)\n",
    "complaints['REQUESTTYPE'] = complaints['REQUESTTYPE'].replace(\"bike facilities don't exist or need improvement\", \"there are no bike facilities or they need maintenance\", regex = True)\n",
    "complaints['REQUESTTYPE'] = complaints['REQUESTTYPE'].replace('people have to wait too long for the Walk signal', 'the wait for the Walk signal is too long', regex = True)\n",
    "complaints['REQUESTTYPE'] = complaints['REQUESTTYPE'].replace('it’s hard for people to see each other', 'it’s hard to see / low visibility', regex = True)"
   ]
  },
  {
   "cell_type": "code",
   "execution_count": 9,
   "metadata": {
    "collapsed": false,
    "scrolled": true
   },
   "outputs": [
    {
     "data": {
      "text/plain": [
       "(of something that is not listed here                     1425\n",
       " there are no bike facilities or they need maintenance     910\n",
       " people speed                                              746\n",
       " people run red lights / stop signs                        662\n",
       " people don't yield while turning                          461\n",
       " people double park their vehicles                         426\n",
       " it’s hard to see / low visibility                         419\n",
       " sidewalks/ramps don't exist or need improvement           343\n",
       " people don't yield while going straight                   264\n",
       " the roadway surface needs maintenance                     256\n",
       " people cross away from the crosswalks                     254\n",
       " the wait for the Walk signal is too long                  230\n",
       " people are not given enough time to cross the street      131\n",
       " people have to cross too many lanes / too far             109\n",
       " Name: REQUESTTYPE, dtype: int64, (14,))"
      ]
     },
     "execution_count": 9,
     "metadata": {},
     "output_type": "execute_result"
    }
   ],
   "source": [
    "complaints['REQUESTTYPE'].value_counts() , complaints['REQUESTTYPE'].value_counts().shape"
   ]
  },
  {
   "cell_type": "code",
   "execution_count": 10,
   "metadata": {
    "collapsed": false
   },
   "outputs": [
    {
     "data": {
      "text/plain": [
       "<matplotlib.axes._subplots.AxesSubplot at 0xb131358>"
      ]
     },
     "execution_count": 10,
     "metadata": {},
     "output_type": "execute_result"
    },
    {
     "data": {
      "image/png": "[encoded data removed]",
      "text/plain": [
       "<matplotlib.figure.Figure at 0xb00ea90>"
      ]
     },
     "metadata": {},
     "output_type": "display_data"
    }
   ],
   "source": [
    "complaints['REQUESTTYPE'].value_counts().plot(kind='barh')"
   ]
  },
  {
   "cell_type": "markdown",
   "metadata": {},
   "source": [
    "The bar chart indicates that there are plenty of complaints that are either a) misclassified as 'other' due to incompetence of the data entry clerk or b) there is a data imbalance consisting of many miscellaneous complaints. In the event of A, we can reclassify and predict the correct labels using the methods within this homework assignment. In the vent of B, we can use clustering and a new classification model to provide an improved classifcation framework for these complaints. "
   ]
  },
  {
   "cell_type": "code",
   "execution_count": 11,
   "metadata": {
    "collapsed": false
   },
   "outputs": [
    {
     "data": {
      "text/plain": [
       "(of something that is not listed here                     0.214738\n",
       " there are no bike facilities or they need maintenance    0.137131\n",
       " people speed                                             0.112417\n",
       " people run red lights / stop signs                       0.099759\n",
       " people don't yield while turning                         0.069470\n",
       " people double park their vehicles                        0.064195\n",
       " it’s hard to see / low visibility                        0.063140\n",
       " sidewalks/ramps don't exist or need improvement          0.051688\n",
       " people don't yield while going straight                  0.039783\n",
       " the roadway surface needs maintenance                    0.038577\n",
       " people cross away from the crosswalks                    0.038276\n",
       " the wait for the Walk signal is too long                 0.034659\n",
       " people are not given enough time to cross the street     0.019741\n",
       " people have to cross too many lanes / too far            0.016426\n",
       " Name: REQUESTTYPE, dtype: float64, (6636, 11))"
      ]
     },
     "execution_count": 11,
     "metadata": {},
     "output_type": "execute_result"
    }
   ],
   "source": [
    "complaints.REQUESTTYPE.value_counts()/complaints.shape[0] , complaints.shape"
   ]
  },
  {
   "cell_type": "code",
   "execution_count": 12,
   "metadata": {
    "collapsed": false
   },
   "outputs": [
    {
     "data": {
      "text/plain": [
       "<matplotlib.axes._subplots.AxesSubplot at 0xb20e390>"
      ]
     },
     "execution_count": 12,
     "metadata": {},
     "output_type": "execute_result"
    },
    {
     "data": {
      "image/png": "[encoded data removed]",
      "text/plain": [
       "<matplotlib.figure.Figure at 0xb1a9dd8>"
      ]
     },
     "metadata": {},
     "output_type": "display_data"
    }
   ],
   "source": [
    "plt.figure(figsize=(10,10))\n",
    "(complaints.REQUESTTYPE.value_counts()/complaints.shape[0]).plot(kind='pie')"
   ]
  },
  {
   "cell_type": "markdown",
   "metadata": {},
   "source": [
    "The pie chart affirms our prior statement regarding 'other'. We note that the classes can be grouped into several larger, more macro categories: cyclist safety, pedestrian safety, dangerous driving, and poor road conditions. While these macro-categories are not particularly informative for Vision Zero, we believe these identifications give us context in text preprocessing and clustering. "
   ]
  },
  {
   "cell_type": "code",
   "execution_count": 13,
   "metadata": {
    "collapsed": false,
    "scrolled": true
   },
   "outputs": [
    {
     "data": {
      "text/plain": [
       "(6454, 11)"
      ]
     },
     "execution_count": 13,
     "metadata": {},
     "output_type": "execute_result"
    }
   ],
   "source": [
    "# Remove duplicate rows\n",
    "complaints.drop_duplicates(subset= ['COMMENTS', 'REQUESTTYPE'], inplace=True)\n",
    "complaints.shape"
   ]
  },
  {
   "cell_type": "code",
   "execution_count": 14,
   "metadata": {
    "collapsed": false
   },
   "outputs": [],
   "source": [
    "X = complaints.COMMENTS\n",
    "y = complaints.REQUESTTYPE\n",
    "\n",
    "X_train, X_test, y_train, y_test = train_test_split(X, y, stratify = y, random_state = 0)\n",
    "\n",
    "vect1 = CountVectorizer()\n",
    "vect3 = CountVectorizer(min_df = 5)"
   ]
  },
  {
   "cell_type": "code",
   "execution_count": 15,
   "metadata": {
    "collapsed": false
   },
   "outputs": [
    {
     "data": {
      "text/plain": [
       "<4840x1613 sparse matrix of type '<class 'numpy.int64'>'\n",
       "\twith 97414 stored elements in Compressed Sparse Row format>"
      ]
     },
     "execution_count": 15,
     "metadata": {},
     "output_type": "execute_result"
    }
   ],
   "source": [
    "vect1.fit_transform(X_train)\n",
    "vect3.fit_transform(X_train)"
   ]
  },
  {
   "cell_type": "code",
   "execution_count": 16,
   "metadata": {
    "collapsed": false
   },
   "outputs": [
    {
     "name": "stdout",
     "output_type": "stream",
     "text": [
      "Vocabulary size: 5738\n",
      "First 20 features:\n",
      "['00', '00am', '02124', '10', '100', '1000', '1000s', '101', '1010', '109', '10am', '10pm', '11', '115', '11a', '12', '128', '13', '1330', '13th', '14', '15', '16', '17', '18', '1a', '1st', '20', '200', '2000', '2009', '200k', '2014', '2015', '2016', '203', '20mph', '21', '22', '2201', '229', '24', '244', '25', '250', '257', '26', '27', '280', '2am', '2hr', '2nd', '30', '300', '30am', '30mph', '311', '318', '32', '342', '343', '345', '346', '35', '35mph', '365', '39', '390', '3a', '3ft', '3rd', '40', '40mph', '415', '426', '45', '45am', '473', '4pm', '4th', '50', '500', '501', '503', '50mph', '50s', '524', '544', '55', '555', '564', '57', '5am', '5min', '5mph', '5mpne8', '5pm', '5th', '60', '60mph', '65', '65mph', '6am', '6pm', '70', '74', '75', '7am', '7pm', '7th', '80', '802', '85', '88', '899', '8am', '8th', '90', '90º', '93', '93n', '93s', '98', '99', '9am', '_all', '_never_', 'a1', 'aact', 'aaron', 'abandon', 'abates', 'abide', 'ability', 'abitters', 'able', 'abomination', 'about', 'above', 'abreast', 'abrupt', 'abruptly', 'absent', 'absolute', 'absolutely', 'absurd', 'absurdly', 'abusive', 'abuters', 'abuts', 'abutters', 'abutting', 'accelerate', 'accelerating', 'acceleration', 'accented', 'accepted', 'access', 'accessible', 'accessing', 'accident', 'accidentally', 'accidents', 'accommodate', 'accommodated', 'accommodating', 'accommodation', 'accommodations', 'accomodation', 'accomplish', 'according', 'account', 'accumulated', 'aceoss', 'acme', 'across', 'act', 'action', 'actions', 'activate', 'activated', 'activates', 'activation', 'active', 'activity', 'acts', 'actual', 'actually', 'ada', 'adamds', 'adams', 'add', 'added', 'addicts', 'adding', 'addition', 'additional', 'additionally', 'address', 'addressed']\n",
      "\n",
      "Every 20th feature:\n",
      "['00', '14', '229', '343', '50', '65', '93n', 'abrupt', 'accident', 'activated', 'adds', 'after', 'aiming', 'alleyway', 'alternatives', 'anarchy', 'antrim', 'apparently', 'apts', 'arms', 'ass', 'atherton', 'audio', 'avoid', 'backing', 'banning', 'basile', 'becauase', 'being', 'berkeley', 'bicknell', 'bird', 'blindly', 'bmc', 'both', 'bps', 'breed', 'broadway', 'btd', 'bumpy', 'busses', 'cab', 'camden', 'card', 'case', 'caving', 'challenging', 'charlestown', 'chicanes', 'cigarette', 'class', 'clinton', 'cmart', 'collided', 'comfortably', 'compacted', 'concerned', 'confirms', 'connections', 'construction', 'contribute', 'copley', 'cottage', 'cover', 'creates', 'crosswalk', 'cummings', 'cutout', 'damaging', 'daughter', 'decide', 'degree', 'depending', 'destinations', 'dhl', 'dim', 'disable', 'dispose', 'divided', 'done', 'doughnuts', 'drawn', 'druggies', 'dunkin', 'eastbound', 'egregious', 'ellis', 'empties', 'enforced', 'ensures', 'equipment', 'etc', 'everyday', 'exchange', 'expect', 'extraordinary', 'fairmont', 'farms', 'feasible', 'fenway', 'financial', 'flat', 'florida', 'following', 'forks', 'fr', 'from', 'furrows', 'garden', 'get', 'glide', 'gotten', 'green', 'grove', 'guys', 'handful', 'harassing', 'hasn', 'headed', 'hebrew', 'here', 'hit', 'honestly', 'horribly', 'hr', 'hwy', 'ignorant', 'impatient', 'impunity', 'including', 'indicated', 'infra', 'insist', 'interact', 'interstate', 'ironic', 'jacket', 'jews', 'julian', 'kenrick', 'kittredge', 'lake', 'last', 'lead', 'leftmost', 'levant', 'likely', 'liquors', 'load', 'london', 'loudly', 'maddening', 'making', 'maple', 'mass', 'mayor', 'medical', 'menna', 'midway', 'minor', 'mix', 'month', 'mosgrove', 'move', 'multilingual', 'napper', 'nearby', 'neighborhoods', 'newly', 'nonantum', 'northwest', 'nursing', 'obstructed', 'off', 'older', 'operation', 'orthodox', 'overdue', 'packard', 'parade', 'particularly', 'path', 'paving', 'pedistrians', 'perilous', 'pervasive', 'picking', 'pitiful', 'plants', 'plunge', 'pools', 'poses', 'powder', 'preschool', 'primary', 'profile', 'protection', 'pulls', 'qualify', 'racing', 'raised', 'reach', 'rebuild', 'red', 'refer', 'rehabilitation', 'remotely', 'repeated', 'resembling', 'restaurant', 'returned', 'right', 'riverway', 'rolling', 'routes', 'runner', 'sacrifice', 'santarpio', 'scary', 'scream', 'secornds', 'segment', 'separating', 'shack', 'sheltered', 'short', 'show', 'sideswiped', 'signing', 'single', 'skidded', 'slow', 'snarl', 'solved', 'sophia', 'spaces', 'spill', 'squealing', 'stanchion', 'stating', 'steps', 'stopping', 'street', 'strong', 'substantial', 'suggest', 'supposedly', 'swcorridor', 'sydney', 'tailgated', 'taxis', 'tends', 'texture', 'theres', 'those', 'thugs', 'timid', 'tom', 'touristmobiles', 'trafficing', 'trashbags', 'trenton', 'trouble', 'turners', 'umass', 'underneath', 'union', 'unreasonable', 'upgraded', 'uses', 'vandalized', 'via', 'violent', 'vpne', 'walking', 'ward', 'watched', 'weather', 'wentworth', 'wheelies', 'whole', 'win', 'witness', 'woolsey', 'worth', 'years', 'youth']\n"
     ]
    }
   ],
   "source": [
    "print(\"Vocabulary size: {}\".format(len(vect1.vocabulary_)))\n",
    "print(\"First 20 features:\\n{}\\n\".format(vect1.get_feature_names()[:200]))\n",
    "print(\"Every 20th feature:\\n{}\".format(vect1.get_feature_names()[::20]))"
   ]
  },
  {
   "cell_type": "code",
   "execution_count": 17,
   "metadata": {
    "collapsed": false
   },
   "outputs": [
    {
     "name": "stdout",
     "output_type": "stream",
     "text": [
      "Vocabulary size: 1613\n",
      "First 20 features:\n",
      "['00', '10', '100', '12', '15', '16', '18', '1st', '20', '24', '25', '30', '35', '40', '40mph', '45', '4th', '50', '500', '80', '90', '93', 'ability', 'able', 'about', 'above', 'abruptly', 'absolutely', 'accelerate', 'access', 'accessible', 'accident', 'accidents', 'accommodate', 'across', 'activated', 'active', 'actually', 'ada', 'adams', 'add', 'added', 'addicts', 'adding', 'addition', 'additional', 'additionally', 'adjusted', 'adults', 'afraid', 'after', 'afternoon', 'afternoons', 'again', 'against', 'aggressive', 'aggressively', 'ago', 'ahead', 'albany', 'aligned', 'alignment', 'all', 'alley', 'allow', 'allowed', 'allowing', 'allows', 'allston', 'almost', 'alone', 'along', 'already', 'also', 'alternative', 'although', 'always', 'am', 'ambulances', 'american', 'amory', 'amount', 'an', 'and', 'andrew', 'angle', 'angry', 'another', 'any', 'anyone', 'anything', 'anyway', 'anywhere', 'apart', 'appear', 'approach', 'approaching', 'arboretum', 'arborway', 'arch', 'are', 'area', 'areas', 'aren', 'arlington', 'around', 'arrow', 'arrows', 'as', 'ashmont', 'asphalt', 'assume', 'at', 'atlantic', 'attempt', 'attempting', 'attention', 'auto', 'automatic', 'automatically', 'automobiles', 'available', 'ave', 'avenue', 'avoid', 'avoiding', 'aware', 'away', 'awful', 'awkward', 'baby', 'back', 'backed', 'backing', 'backs', 'backup', 'backups', 'bad', 'badly', 'ban', 'bar', 'barely', 'barrier', 'barriers', 'basically', 'basis', 'bay', 'bc', 'be', 'beach', 'beacon', 'beat', 'because', 'become', 'becomes', 'beech', 'been', 'before', 'begin', 'beginning', 'begins', 'behavior', 'behind', 'being', 'belgrade', 'believe', 'bellevue', 'bend', 'benefit', 'bennington', 'berkeley', 'berklee', 'berkley', 'best', 'better', 'between', 'beyond', 'bicycle', 'bicycles', 'bicycling', 'bicyclist', 'bicyclists', 'big', 'bike', 'biker', 'bikers', 'bikes', 'biking', 'blind', 'block', 'blocked', 'blocking', 'blocks', 'blossom', 'blow', 'blue', 'blvd', 'bollards', 'boston', 'both']\n",
      "\n",
      "Every 20th feature:\n",
      "['00', '90', 'add', 'aligned', 'amory', 'are', 'automobiles', 'bar', 'begins', 'bicyclist', 'bother', 'btd', 'buttons', 'catch', 'charlesgate', 'club', 'complete', 'consistently', 'count', 'current', 'day', 'diet', 'don', 'drives', 'either', 'entire', 'everywhere', 'fairfield', 'fit', 'forever', 'gallivan', 'gone', 'hancock', 'heading', 'holes', 'huge', 'impossible', 'installed', 'joy', 'last', 'light', 'living', 'low', 'matter', 'middle', 'most', 'navigate', 'nightmare', 'obstruct', 'onto', 'parents', 'paths', 'person', 'plow', 'pothole', 'pulling', 'rains', 'redesign', 'resident', 'river', 'run', 'schools', 'set', 'sides', 'slope', 'southern', 'stand', 'straight', 'super', 'tell', 'think', 'today', 'transit', 'trucks', 'underneath', 'usually', 'volume', 'watch', 'wheelchairs', 'winthrop', 'yell']\n"
     ]
    }
   ],
   "source": [
    "print(\"Vocabulary size: {}\".format(len(vect3.vocabulary_)))\n",
    "print(\"First 20 features:\\n{}\\n\".format(vect3.get_feature_names()[:200]))\n",
    "print(\"Every 20th feature:\\n{}\".format(vect3.get_feature_names()[::20]))"
   ]
  },
  {
   "cell_type": "markdown",
   "metadata": {},
   "source": [
    "# Task2 - Model 1 [10 points]"
   ]
  },
  {
   "cell_type": "markdown",
   "metadata": {},
   "source": [
    "Run a baseline multi-class classification model using a bag-of-word approach, report macro f1-score (should be above .5) and visualize the confusion matrix. Can you interpret the mistakes made by the model? "
   ]
  },
  {
   "cell_type": "code",
   "execution_count": 18,
   "metadata": {
    "collapsed": false
   },
   "outputs": [],
   "source": [
    "def pipeline_summary(cv_scores, mean_score, macro, micro):\n",
    "    \"\"\"Call This method to summarize results of our models which use only pipeline.\n",
    "            \n",
    "    \"\"\"\n",
    "    print(\"cv_scores: {}\\n\\nmean_cv_score: {:.3f}\\ntest_macro: {:.3f}\\ntest_micro: {:.3f}\".format(cv_scores, mean_score, macro, micro))"
   ]
  },
  {
   "cell_type": "code",
   "execution_count": 19,
   "metadata": {
    "collapsed": true
   },
   "outputs": [],
   "source": [
    "def gridsearch_summary(best_score, macro, micro):\n",
    "    \"\"\"Call this method to summarize results of our modls which use gridsearch.\n",
    "    \"\"\"\n",
    "    \n",
    "    print(\"best_grid_score: {:.3f}\\ntest_macro: {:.3f}\\ntest_micro: {:.3f}\".format(best_score, macro, micro))"
   ]
  },
  {
   "cell_type": "code",
   "execution_count": 20,
   "metadata": {
    "collapsed": true
   },
   "outputs": [],
   "source": [
    "def plot_confusion_matrix(cm, classes, normalize=False, title='Confusion matrix', cmap=plt.cm.Blues):\n",
    "    \"\"\"\n",
    "    This function prints and plots the confusion matrix.\n",
    "    Normalization can be applied by setting `normalize=True`.\n",
    "    \"\"\"\n",
    "    plt.imshow(cm, interpolation='nearest', cmap=cmap)\n",
    "    plt.title(title)\n",
    "    plt.colorbar()\n",
    "    tick_marks = np.arange(len(classes))\n",
    "    plt.xticks(tick_marks)\n",
    "    plt.yticks(tick_marks)\n",
    "\n",
    "    if normalize:\n",
    "        cm = cm.astype('float') / cm.sum(axis=1)[:, np.newaxis]\n",
    "        print(\"Normalized confusion matrix\")\n",
    "\n",
    "#     print(cm)\n",
    "\n",
    "    thresh = cm.max() / 2.\n",
    "    for i, j in itertools.product(range(cm.shape[0]), range(cm.shape[1])):\n",
    "        if normalize:\n",
    "            plt.text(j, i, '%.3f'%(cm[i, j]),\n",
    "                 horizontalalignment=\"center\",\n",
    "                 color=\"white\" if cm[i, j] > thresh else \"black\")\n",
    "        else:\n",
    "            plt.text(j, i, cm[i, j],\n",
    "                 horizontalalignment=\"center\",\n",
    "                 color=\"white\" if cm[i, j] > thresh else \"black\")\n",
    "\n",
    "    plt.tight_layout()\n",
    "    plt.ylabel('True label')\n",
    "    plt.xlabel('Predicted label')"
   ]
  },
  {
   "cell_type": "code",
   "execution_count": 21,
   "metadata": {
    "collapsed": true
   },
   "outputs": [],
   "source": [
    "def baseline_model_1(X_train, X_test, y_train, y_test):\n",
    "    \n",
    "    pipe = make_pipeline(CountVectorizer(), LogisticRegression())\n",
    "    pipe.fit(X_train, y_train)\n",
    "    cv_scores = cross_val_score(pipe, X_train, y_train, scoring ='f1_macro', cv = 10)\n",
    "    mean_score = np.mean(cv_scores)\n",
    "    y_pred = pipe.predict(X_test)\n",
    "    macro = f1_score(y_test, y_pred, average=\"macro\")\n",
    "    micro = f1_score(y_test, y_pred, average=\"micro\")\n",
    "    confusion = confusion_matrix(y_test, y_pred)\n",
    "    \n",
    "    return cv_scores, mean_score, macro, micro, confusion\n",
    "\n",
    "# mean_cv_score: 0.511\n",
    "# test_macro: 0.538\n",
    "# test_micro: 0.584"
   ]
  },
  {
   "cell_type": "code",
   "execution_count": 22,
   "metadata": {
    "collapsed": false,
    "scrolled": false
   },
   "outputs": [
    {
     "name": "stderr",
     "output_type": "stream",
     "text": [
      "c:\\users\\michael\\anaconda3\\lib\\site-packages\\sklearn\\metrics\\classification.py:1113: UndefinedMetricWarning: F-score is ill-defined and being set to 0.0 in labels with no predicted samples.\n",
      "  'precision', 'predicted', average, warn_for)\n",
      "c:\\users\\michael\\anaconda3\\lib\\site-packages\\sklearn\\metrics\\classification.py:1113: UndefinedMetricWarning: F-score is ill-defined and being set to 0.0 in labels with no predicted samples.\n",
      "  'precision', 'predicted', average, warn_for)\n"
     ]
    },
    {
     "name": "stdout",
     "output_type": "stream",
     "text": [
      "cv_scores: [ 0.51537885  0.5094241   0.52257044  0.50137019  0.5479334   0.54914361\n",
      "  0.55012571  0.5141494   0.51468646  0.52436088]\n",
      "\n",
      "mean_cv_score: 0.525\n",
      "test_macro: 0.538\n",
      "test_micro: 0.584\n"
     ]
    }
   ],
   "source": [
    "cv_scores1, mean_score1, macro1, micro1, confusion1 = baseline_model_1(X_train, X_test, y_train, y_test)\n",
    "pipeline_summary(cv_scores1, mean_score1, macro1, micro1)"
   ]
  },
  {
   "cell_type": "code",
   "execution_count": 23,
   "metadata": {
    "collapsed": false
   },
   "outputs": [],
   "source": [
    "assert macro1 > 0.529"
   ]
  },
  {
   "cell_type": "code",
   "execution_count": 24,
   "metadata": {
    "collapsed": false
   },
   "outputs": [
    {
     "data": {
      "image/png": "[encoded data removed]",
      "text/plain": [
       "<matplotlib.figure.Figure at 0xb7e14e0>"
      ]
     },
     "metadata": {},
     "output_type": "display_data"
    }
   ],
   "source": [
    "plt.figure()\n",
    "plot_confusion_matrix(confusion1, classes=list(np.unique(y.values)), title ='Baseline Model 1 Confusion Matrix')\n",
    "plt.show()"
   ]
  },
  {
   "cell_type": "markdown",
   "metadata": {},
   "source": [
    "Looking at the confusion matrix, it's clear in column 1, 'of somethign not listed here' (we will refer to this as 'other'), that when the classifier missclassifies, it's because it's because the 'other' label is overweighted. This is expected because the data inherently posses this imbalance. Resultantly, most misclassified labels are marked to 'other'. Alternatively, when we examine row 1 'other, we can see the classifier has predicted different labels from the ground truth. The classifier particularly predicted labels 'too many people crossing the lane' and 'people don't yield...' although these 25 and 17 respective instances are truely labelled as 'other'. This is evidence that there are plenty of complaints which that y target has inaccurately captured the true nature of the event. These observations reaffirm our prior beliefs regarding the 'other' label, as described in the histogram earlier."
   ]
  },
  {
   "cell_type": "code",
   "execution_count": 25,
   "metadata": {
    "collapsed": true
   },
   "outputs": [],
   "source": [
    "def baseline_model_2(X_train, X_test, y_train, y_test):\n",
    "    \n",
    "    pipe = make_pipeline(CountVectorizer(min_df=3), LogisticRegression())\n",
    "    pipe.fit(X_train, y_train)\n",
    "    cv_scores = cross_val_score(pipe, X_train, y_train, scoring ='f1_macro', cv = 10)\n",
    "    mean_score = np.mean(cv_scores)\n",
    "    y_pred = pipe.predict(X_test)\n",
    "    macro = f1_score(y_test, y_pred, average=\"macro\")\n",
    "    micro = f1_score(y_test, y_pred, average=\"micro\")\n",
    "    confusion = confusion_matrix(y_test, y_pred)\n",
    "    \n",
    "    return cv_scores, mean_score, macro, micro, confusion\n",
    "\n",
    "# mean_cv_score: 0.520\n",
    "# test_macro: 0.538\n",
    "# test_micro: 0.582"
   ]
  },
  {
   "cell_type": "code",
   "execution_count": 26,
   "metadata": {
    "collapsed": false
   },
   "outputs": [],
   "source": [
    "# cv_scores2, mean_score2, macro2, micro2, confusion2 = baseline_model_2(X_train, X_test, y_train, y_test)\n",
    "# pipeline_summary(cv_scores2, mean_score2, macro2, micro2)"
   ]
  },
  {
   "cell_type": "code",
   "execution_count": 27,
   "metadata": {
    "collapsed": true
   },
   "outputs": [],
   "source": [
    "def baseline_model_3(X_train, X_test, y_train, y_test):\n",
    "    \n",
    "    pipe = make_pipeline(CountVectorizer(min_df=5), LogisticRegression())\n",
    "    pipe.fit(X_train, y_train)\n",
    "    cv_scores = cross_val_score(pipe, X_train, y_train, scoring ='f1_macro', cv = 10)\n",
    "    mean_score = np.mean(cv_scores)\n",
    "    y_pred = pipe.predict(X_test)\n",
    "    macro = f1_score(y_test, y_pred, average=\"macro\")\n",
    "    micro = f1_score(y_test, y_pred, average=\"micro\")\n",
    "    confusion = confusion_matrix(y_test, y_pred)\n",
    "    \n",
    "    return cv_scores, mean_score, macro, micro, confusion\n",
    "\n",
    "# mean_cv_score: 0.515\n",
    "# test_macro: 0.539\n",
    "# test_micro: 0.577"
   ]
  },
  {
   "cell_type": "code",
   "execution_count": 28,
   "metadata": {
    "collapsed": false
   },
   "outputs": [],
   "source": [
    "# cv_scores3, mean_score3, macro3, micro3, confusion3 = baseline_model_3(X_train, X_test, y_train, y_test)\n",
    "# pipeline_summary(cv_scores3, mean_score3, macro3, micro3)"
   ]
  },
  {
   "cell_type": "code",
   "execution_count": 29,
   "metadata": {
    "collapsed": true
   },
   "outputs": [],
   "source": [
    "def baseline_model_4(X_train, X_test, y_train, y_test):\n",
    "    \n",
    "    pipe = make_pipeline(CountVectorizer(min_df=5, stop_words=\"english\"), LogisticRegression())\n",
    "    pipe.fit(X_train, y_train)\n",
    "    cv_scores = cross_val_score(pipe, X_train, y_train, scoring ='f1_macro', cv = 10)\n",
    "    mean_score = np.mean(cv_scores)\n",
    "    y_pred = pipe.predict(X_test)\n",
    "    macro = f1_score(y_test, y_pred, average=\"macro\")\n",
    "    micro = f1_score(y_test, y_pred, average=\"micro\")\n",
    "    confusion = confusion_matrix(y_test, y_pred)\n",
    "    \n",
    "    return cv_scores, mean_score, macro, micro, confusion\n",
    "\n",
    "# mean_cv_score: 0.499\n",
    "# test_macro: 0.525\n",
    "# test_micro: 0.585"
   ]
  },
  {
   "cell_type": "code",
   "execution_count": 30,
   "metadata": {
    "collapsed": false
   },
   "outputs": [],
   "source": [
    "# cv_scores4, mean_score4, macro4, micro4, confusion4 = baseline_model_4(X_train, X_test, y_train, y_test)\n",
    "# pipeline_summary(cv_scores4, mean_score4, macro4, micro4)"
   ]
  },
  {
   "cell_type": "code",
   "execution_count": 31,
   "metadata": {
    "collapsed": false
   },
   "outputs": [],
   "source": [
    "def baseline_model_5(X_train, X_test, y_train, y_test):\n",
    "    \n",
    "    pipe = make_pipeline(CountVectorizer(), RandomForestClassifier(n_estimators=110, max_depth=20))\n",
    "    param_grid = {'countvectorizer__min_df': [1, 5]}\n",
    "    grid = GridSearchCV(pipe, param_grid, scoring = 'f1_macro', cv = 10)\n",
    "    grid.fit(X_train, y_train)\n",
    "    best_score = grid.best_score_\n",
    "    y_pred = grid.predict(X_test)\n",
    "    macro = f1_score(y_test, y_pred, average=\"macro\")\n",
    "    micro = f1_score(y_test, y_pred, average=\"micro\")\n",
    "    confusion = confusion_matrix(y_test, y_pred)\n",
    "    \n",
    "    return best_score, macro, micro, confusion, grid\n",
    "\n",
    "# {'countvectorizer__min_df': 1, 'normalizer': None} macro: 0.538 -> LOGISTIC\n",
    "# {'countvectorizer__min_df': 5, 'normalizer': True} macro: 0.483 -> LOGISTIC\n",
    "# {'countvectorizer__min_df': 5, 'max_features': 20, 'n_estimators': 110} -> RANDOMFORESTCLASSIFIER\n",
    "\n",
    "# best_grid_score: 0.424\n",
    "# test_macro: 0.418\n",
    "# test_micro: 0.530"
   ]
  },
  {
   "cell_type": "code",
   "execution_count": 32,
   "metadata": {
    "collapsed": false,
    "scrolled": true
   },
   "outputs": [],
   "source": [
    "# best_score5, macro5, micro5, confusion5, grid5 = baseline_model_5(X_train, X_test, y_train, y_test)\n",
    "# gridsearch_summary(best_score5, macro5, micro5)"
   ]
  },
  {
   "cell_type": "markdown",
   "metadata": {},
   "source": [
    "# Task3 - Model 2 [30 points]"
   ]
  },
  {
   "cell_type": "markdown",
   "metadata": {},
   "source": [
    "Improve the model using more complex text features, including n-grams, character n-grams and possibly domain-specific features."
   ]
  },
  {
   "cell_type": "code",
   "execution_count": 33,
   "metadata": {
    "collapsed": true
   },
   "outputs": [],
   "source": [
    "# Using grid search on the n_grams\n",
    "def ngrams_model_6(X_train, X_test, y_train, y_test):\n",
    "    \n",
    "    pipe = make_pipeline(CountVectorizer(), LogisticRegression())\n",
    "    param_grid = {'countvectorizer__ngram_range': [(1, 1), (1, 2),(1, 3)],\n",
    "                 'countvectorizer__min_df': [1,3,5]}\n",
    "    grid = GridSearchCV(pipe, param_grid, scoring = 'f1_macro', cv = 3)\n",
    "    grid.fit(X_train, y_train)\n",
    "    best_score = grid.best_score_\n",
    "    y_pred = grid.predict(X_test)\n",
    "    macro = f1_score(y_test, y_pred, average=\"macro\")\n",
    "    micro = f1_score(y_test, y_pred, average=\"micro\")\n",
    "    confusion = confusion_matrix(y_test, y_pred)\n",
    "    \n",
    "    return best_score, macro, micro, confusion, grid, y_pred\n",
    "\n",
    "# TEST 1:\n",
    "# param_grid: [(1, 1), (1, 2),(2, 3), (3, 3), (5, 5)]\n",
    "# best_param: {'countvectorizer__ngram_range': (1, 2)}\n",
    "# best_grid_score: 0.512\n",
    "# test_macro: 0.540\n",
    "# test_micro: 0.586\n",
    "\n",
    "#Test 2:\n",
    "# param_grid: [(1, 1), (1, 2),(1, 3)]\n",
    "# best_param: {'countvectorizer__ngram_range': (1, 3)}\n",
    "# best_grid_score: 0.514\n",
    "# test_macro: 0.538\n",
    "# test_micro: 0.586\n",
    "\n",
    "# Test 3:\n",
    "# param_grid: {'ngram_range': [(1, 1), (1, 2),(1, 3)], 'min_df': [1,3,5]}\n",
    "# best_param: {'countvectorizer__min_df': 1, 'countvectorizer__ngram_range': (1, 2)}    \n",
    "# best_grid_score: 0.535\n",
    "# test_macro: 0.552\n",
    "# test_micro: 0.601"
   ]
  },
  {
   "cell_type": "code",
   "execution_count": 34,
   "metadata": {
    "collapsed": false
   },
   "outputs": [
    {
     "name": "stdout",
     "output_type": "stream",
     "text": [
      "best_grid_score: 0.535\n",
      "test_macro: 0.552\n",
      "test_micro: 0.601\n"
     ]
    }
   ],
   "source": [
    "best_score6, macro6, micro6, confusion6, grid6, y_pred6 = ngrams_model_6(X_train, X_test, y_train, y_test)\n",
    "gridsearch_summary(best_score6, macro6, micro6)"
   ]
  },
  {
   "cell_type": "markdown",
   "metadata": {},
   "source": [
    "#### ngrams_model6 was our strongest model. It employs logistic regression with minimum document frequency of 1, and incorporates 1-grams and bi-grams "
   ]
  },
  {
   "cell_type": "code",
   "execution_count": 35,
   "metadata": {
    "collapsed": true
   },
   "outputs": [],
   "source": [
    "assert macro6 > .540"
   ]
  },
  {
   "cell_type": "code",
   "execution_count": 36,
   "metadata": {
    "collapsed": true
   },
   "outputs": [],
   "source": [
    "def char_ngrams_model_7(X_train, X_test, y_train, y_test):\n",
    "    \n",
    "    # We can also use analyzer =\"char\" This does not respect word boundaries\n",
    "    pipe = make_pipeline(CountVectorizer(analyzer=\"char\"), LogisticRegression())\n",
    "    param_grid = {\"countvectorizer__ngram_range\": [(2, 2), (1, 2),(2, 3), (3, 4)]}\n",
    "    grid = GridSearchCV(pipe, param_grid, scoring = 'f1_macro', cv = 3)\n",
    "    grid.fit(X_train, y_train)\n",
    "    best_score = grid.best_score_\n",
    "    y_pred = grid.predict(X_test)\n",
    "    macro = f1_score(y_test, y_pred, average=\"macro\")\n",
    "    micro = f1_score(y_test, y_pred, average=\"micro\")\n",
    "    confusion = confusion_matrix(y_test, y_pred)\n",
    "    \n",
    "    return best_score, macro, micro, confusion, grid\n",
    "\n",
    "# Test 1:\n",
    "# param_grid: {\"ngram_range\": [(2, 2), (1, 2),(2, 3), (3, 4)]}\n",
    "# ###THIS MIGHT MEAN THAT CHAR WB MAY NOT BE WORKING SINCE ITS CHOOSING (3,4)\n",
    "# best_param: {'countvectorizer__ngram_range': (3, 4)}\n",
    "# best_grid_score: 0.498\n",
    "# test_macro: 0.514\n",
    "# test_micro: 0.559\n",
    "\n",
    "# Test 2:\n",
    "# param_grid: {\"ngram_range\": [(2, 2), (1, 2), (2, 3), (3, 4)]}\n",
    "# best_param: {'countvectorizer__ngram_range': (3, 4)}\n",
    "# best_grid_score: 0.515\n",
    "# test_macro: 0.519 \n",
    "# test_micro: 0.567\n",
    "# ###Character CHAR level n-gram analyzer was a better analyzer for model_7. "
   ]
  },
  {
   "cell_type": "code",
   "execution_count": 37,
   "metadata": {
    "collapsed": false
   },
   "outputs": [],
   "source": [
    "# best_score7, macro7, micro7, confusion7, grid7 = char_ngrams_model_7(X_train, X_test, y_train, y_test)\n",
    "# gridsearch_summary(best_score7, macro7, micro7)"
   ]
  },
  {
   "cell_type": "code",
   "execution_count": 38,
   "metadata": {
    "collapsed": false,
    "scrolled": false
   },
   "outputs": [],
   "source": [
    "def ngrams_model_8(X_train, X_test, y_train, y_test):\n",
    "    \n",
    "    pipe = make_pipeline(CountVectorizer(ngram_range=(1,2)), MLPClassifier(hidden_layer_sizes=(100,), activation = 'logistic', max_iter=50,verbose=True))\n",
    "    pipe.fit(X_train, y_train)\n",
    "    y_pred = pipe.predict(X_test)\n",
    "    macro = f1_score(y_test, y_pred, average=\"macro\")\n",
    "    micro = f1_score(y_test, y_pred, average=\"micro\")\n",
    "    confusion = confusion_matrix(y_test, y_pred)\n",
    "    \n",
    "    return macro, micro, confusion, pipe"
   ]
  },
  {
   "cell_type": "code",
   "execution_count": 39,
   "metadata": {
    "collapsed": false,
    "scrolled": true
   },
   "outputs": [],
   "source": [
    "# macro, micro, confusion, pipe = ngrams_model_8(X_train, X_test, y_train, y_test)"
   ]
  },
  {
   "cell_type": "markdown",
   "metadata": {},
   "source": [
    "# Task4 - Visualize Results [10 points]"
   ]
  },
  {
   "cell_type": "code",
   "execution_count": 40,
   "metadata": {
    "collapsed": false,
    "scrolled": true
   },
   "outputs": [],
   "source": [
    "# class_results=pd.read_csv(StringIO(classification_report(y_test, y_pred6, digits=2)), sep=(\" 0\"), header = None, names = ['precision','recall','f1-score & support'])\n",
    "# class_results = class_results[1:]\n",
    "# class_results"
   ]
  },
  {
   "cell_type": "markdown",
   "metadata": {},
   "source": [
    "Precision is a measure of how useful our model is at classifying complaints into the appropraite labels. For example, for the label \"it's hard to see / low visibility\", the precision is .64. Therefore 64% of complaints classified to this are true positivees while 36% are false positives.\n",
    "\n",
    "Recall is a measure of the completeness for each respective label. Therefore our model only correctly captured 59% of the class \"it's hard to see / low visibility\", and 41% of complaints belonging to this class did not accurately classify under the model.\n",
    "\n",
    "With that said, looking at the overall table and reviewing our f1 score (best measure of accuracy, combines precision and recall), our best model is pretty weak with an average of .60 F1. There are some notable observations that can be taken from this table that may allow us to improve upon the model. \n",
    "\n",
    "For instance, there is a substantial gap between precision and recall on \"people are not given enough time to cross the street\" and \"people have to cross too many lanes\". In the former class, precision is above average and yet the recall is below. This suggests that of the classifications the model makes for this class, the misclassification are on par average with other labels, however the model is missing many complaints that belong to this class. Some ways to examine this further could be to examine the token counts for complaints in this class, or to preprocess these complaints so as to improve the tokenization. In the latter class regarding people crossing the lanes, it appears both precision and recall are well below the average, and therefore the classifier is all around terrible at capturing these complaints. If we improve the classifier in any way, both of these scores should likely rise up in tandem."
   ]
  },
  {
   "cell_type": "code",
   "execution_count": 41,
   "metadata": {
    "collapsed": false
   },
   "outputs": [],
   "source": [
    "#plt.figure()\n",
    "#plot_confusion_matrix(confusion2, classes=list(np.unique(y.values)), title='Confusion matrix 2')\n",
    "#plt.show()"
   ]
  },
  {
   "cell_type": "code",
   "execution_count": 42,
   "metadata": {
    "collapsed": false
   },
   "outputs": [],
   "source": [
    "#plt.figure()\n",
    "#plot_confusion_matrix(confusion3, classes=list(np.unique(y.values)), title='Confusion matrix 3')\n",
    "#plt.show()"
   ]
  },
  {
   "cell_type": "code",
   "execution_count": 43,
   "metadata": {
    "collapsed": false
   },
   "outputs": [],
   "source": [
    "# plt.figure()\n",
    "# plot_confusion_matrix(confusion4, classes=list(np.unique(y.values)), title='Confusion matrix 4')\n",
    "# plt.show()"
   ]
  },
  {
   "cell_type": "code",
   "execution_count": 44,
   "metadata": {
    "collapsed": false
   },
   "outputs": [],
   "source": [
    "# plt.figure()\n",
    "# plot_confusion_matrix(confusion5, classes=list(np.unique(y.values)), title='Confusion matrix 5')\n",
    "# plt.show()"
   ]
  },
  {
   "cell_type": "code",
   "execution_count": 45,
   "metadata": {
    "collapsed": false
   },
   "outputs": [
    {
     "data": {
      "image/png": "[encoded data removed]",
      "text/plain": [
       "<matplotlib.figure.Figure at 0xd99e3c8>"
      ]
     },
     "metadata": {},
     "output_type": "display_data"
    }
   ],
   "source": [
    "plt.figure()\n",
    "plot_confusion_matrix(confusion6, classes=list(np.unique(y.values)), title='n-grams(1,2) model_6 Confusion matrix')\n",
    "plt.show()"
   ]
  },
  {
   "cell_type": "markdown",
   "metadata": {},
   "source": [
    "This is the confusion matrix for our best ngram classifer. As confirmed before, we can see the impact of the imbalance for complaints belonging to the 'other' class. However our confusion matrix has marginally improved from the prior."
   ]
  },
  {
   "cell_type": "code",
   "execution_count": 46,
   "metadata": {
    "collapsed": false
   },
   "outputs": [],
   "source": [
    "# plt.figure()\n",
    "# plot_confusion_matrix(confusion7, classes=list(np.unique(y.values)), title='Confusion matrix 7')\n",
    "# plt.show()"
   ]
  },
  {
   "cell_type": "code",
   "execution_count": 47,
   "metadata": {
    "collapsed": true
   },
   "outputs": [],
   "source": [
    "def plot_important_features(coef, feature_names, top_n=20, ax=None):\n",
    "    if ax is None:\n",
    "        ax = plt.gca()\n",
    "    inds = np.argsort(coef)\n",
    "    low = inds[:top_n]\n",
    "    high = inds[-top_n:]\n",
    "    important = np.hstack([low, high])\n",
    "    myrange = range(len(important))\n",
    "\n",
    "    ax.bar(myrange, coef[important])\n",
    "    ax.set_xticks(myrange)\n",
    "    ax.set_xticklabels(feature_names[important], rotation=60, ha=\"right\")"
   ]
  },
  {
   "cell_type": "code",
   "execution_count": 48,
   "metadata": {
    "collapsed": false,
    "scrolled": false
   },
   "outputs": [],
   "source": [
    "# lr = grid6.best_estimator_.named_steps['logisticregression']\n",
    "\n",
    "# feature_names = np.array(grid6.best_estimator_.named_steps['countvectorizer'].get_feature_names())\n",
    "# n_classes = len(lr.classes_)\n",
    "# fig, axes = plt.subplots(n_classes, figsize=(20, 80))\n",
    "# for ax, coef, label in zip(axes.ravel(), lr.coef_, lr.classes_):\n",
    "#     ax.set_title(label)\n",
    "#     plot_important_features(coef, feature_names, top_n=20, ax=ax)\n",
    "\n",
    "# plt.tight_layout()\n",
    "\n",
    "#note this is commented for Travis to run faster."
   ]
  },
  {
   "cell_type": "markdown",
   "metadata": {},
   "source": [
    "Upon review of the most predictive feature names for every class, the words which are identified make a lot of intuitive sense. Therefore it passes our sense check. Going deeper and comparing high f1-scoring classes to lower, we can make a couple conclusions as well.\n",
    "\n",
    "It's evident that for high scoring classes, the complaints typically contain one or two critical tokenized words that are almost unavoidable in the associated complaint. For instance, the \"...no bike facilities..\" class always contains the words bike, bikes, bicycles, in its complaints which is why the label is easy for our classifier. These word variants are not shared by the other labels and so it's an easy classification from both an precision and recall standpoint.\n",
    "\n",
    "However, for lower scoring labels such as \"people have to cross too many lanes\", there is a strong correlation between the word 'wide' and the label, but that's about it. And this makes intuitive sense because the recall score is average, but the recall score is low. So 'wide' is most certainly a good predictor for this label, but the classifier is failing to capture other latent words in the corpus that are good indicators of this label. You can see this not only from the fairly homogenous word feature importances graph above, but also as discussed in the recall table prior."
   ]
  },
  {
   "cell_type": "markdown",
   "metadata": {},
   "source": [
    "# Task5 - Clustering [10 points]"
   ]
  },
  {
   "cell_type": "markdown",
   "metadata": {},
   "source": [
    "Apply LDA, NMF and K-Means to the whole dataset. Can you find clusters or topics that match well with some of the ground truth labels? Use ARI to compare the methods and visualize topics and clusters."
   ]
  },
  {
   "cell_type": "code",
   "execution_count": 49,
   "metadata": {
    "collapsed": true
   },
   "outputs": [],
   "source": [
    "def print_topics(topics, feature_names, components, topics_per_chunk=6,n_words=20):\n",
    "    \"\"\"This method will be called to print topics from our NMF \n",
    "    \"\"\"\n",
    "    sorting = np.argsort(components, axis=1)[:, ::-1]\n",
    "    for i in range(0, len(topics), topics_per_chunk):\n",
    "        # for each chunk:\n",
    "        these_topics = topics[i: i + topics_per_chunk]\n",
    "        # maybe we have less than topics_per_chunk left\n",
    "        len_this_chunk = len(these_topics)\n",
    "        # print topic headers\n",
    "        print((\"topic {:<8}\" * len_this_chunk).format(*these_topics))\n",
    "        print((\"-------- {0:<5}\" * len_this_chunk).format(\"\"))\n",
    "        # print top n_words frequent words\n",
    "        for i in range(n_words):\n",
    "            try:\n",
    "                print((\"{:<14}\" * len_this_chunk).format(\n",
    "                    *feature_names[sorting[these_topics, i]]))\n",
    "            except:\n",
    "                pass\n",
    "        print(\"\\n\")"
   ]
  },
  {
   "cell_type": "code",
   "execution_count": 50,
   "metadata": {
    "collapsed": true
   },
   "outputs": [],
   "source": [
    "def plot_important_features_2(coef, feature_names, top_n=20, ax=None):\n",
    "    if ax is None:\n",
    "        ax = plt.gca()\n",
    "    inds = np.argsort(np.abs(coef))[-top_n:]\n",
    "    important_coefs = coef[inds]\n",
    "    sort_sign = np.argsort(important_coefs)\n",
    "    myrange = range(len(inds))\n",
    "    combined_inds = inds[sort_sign]\n",
    "\n",
    "    ax.bar(myrange, coef[combined_inds])\n",
    "    ax.set_xticks(myrange)\n",
    "    ax.set_xticklabels(feature_names[combined_inds], rotation=60, ha=\"right\")"
   ]
  },
  {
   "cell_type": "code",
   "execution_count": 51,
   "metadata": {
    "collapsed": true
   },
   "outputs": [],
   "source": [
    "def clustering_kmeans(k,X, y):\n",
    "    new_X = CountVectorizer(min_df=5).fit_transform(X)\n",
    "    kmeans = KMeans(k)\n",
    "    kmeans.fit_transform(new_X)\n",
    "    y_pred = kmeans.predict(new_X)\n",
    "    \n",
    "    comparison = np.concatenate([X.values.reshape(len(X),1), y.reshape(len(y),1), y_pred.reshape(len(y_pred),1)], axis = 1)\n",
    "    comparison = pd.DataFrame(comparison)\n",
    "    comparison.columns =['COMMENTS','REQUESTTYPE', 'CLUSTER']\n",
    "    \n",
    "    return y_pred, comparison"
   ]
  },
  {
   "cell_type": "code",
   "execution_count": 52,
   "metadata": {
    "collapsed": false,
    "scrolled": true
   },
   "outputs": [
    {
     "name": "stderr",
     "output_type": "stream",
     "text": [
      "c:\\users\\michael\\anaconda3\\lib\\site-packages\\ipykernel\\__main__.py:7: FutureWarning: reshape is deprecated and will raise in a subsequent release. Please use .values.reshape(...) instead\n"
     ]
    }
   ],
   "source": [
    "y_pred, comparison = clustering_kmeans(5, X, y)"
   ]
  },
  {
   "cell_type": "code",
   "execution_count": 53,
   "metadata": {
    "collapsed": false
   },
   "outputs": [
    {
     "data": {
      "text/html": [
       "<div>\n",
       "<table border=\"1\" class=\"dataframe\">\n",
       "  <thead>\n",
       "    <tr style=\"text-align: right;\">\n",
       "      <th></th>\n",
       "      <th>COMMENTS</th>\n",
       "      <th>REQUESTTYPE</th>\n",
       "      <th>CLUSTER</th>\n",
       "    </tr>\n",
       "  </thead>\n",
       "  <tbody>\n",
       "    <tr>\n",
       "      <th>0</th>\n",
       "      <td>Broadway Bridge is wide &amp; off highway ramps. V...</td>\n",
       "      <td>there are no bike facilities or they need main...</td>\n",
       "      <td>4</td>\n",
       "    </tr>\n",
       "    <tr>\n",
       "      <th>1</th>\n",
       "      <td>This intersection is dangerous. Cars don't fol...</td>\n",
       "      <td>of something that is not listed here</td>\n",
       "      <td>4</td>\n",
       "    </tr>\n",
       "    <tr>\n",
       "      <th>2</th>\n",
       "      <td>It's terrifying to walk over here. It seems li...</td>\n",
       "      <td>people don't yield while going straight</td>\n",
       "      <td>4</td>\n",
       "    </tr>\n",
       "    <tr>\n",
       "      <th>3</th>\n",
       "      <td>cars coming around the corner of this wide one...</td>\n",
       "      <td>it’s hard to see / low visibility</td>\n",
       "      <td>1</td>\n",
       "    </tr>\n",
       "    <tr>\n",
       "      <th>4</th>\n",
       "      <td>as you come off the bike path, it's unclear ho...</td>\n",
       "      <td>people don't yield while turning</td>\n",
       "      <td>4</td>\n",
       "    </tr>\n",
       "    <tr>\n",
       "      <th>5</th>\n",
       "      <td>This intersection is very confusing.</td>\n",
       "      <td>of something that is not listed here</td>\n",
       "      <td>0</td>\n",
       "    </tr>\n",
       "    <tr>\n",
       "      <th>6</th>\n",
       "      <td>people walking go against the light because we...</td>\n",
       "      <td>the wait for the Walk signal is too long</td>\n",
       "      <td>0</td>\n",
       "    </tr>\n",
       "    <tr>\n",
       "      <th>7</th>\n",
       "      <td>Getting from the T stop to the pedestrian brid...</td>\n",
       "      <td>the wait for the Walk signal is too long</td>\n",
       "      <td>1</td>\n",
       "    </tr>\n",
       "    <tr>\n",
       "      <th>8</th>\n",
       "      <td>I will be coming down to the intersection alon...</td>\n",
       "      <td>people don't yield while turning</td>\n",
       "      <td>4</td>\n",
       "    </tr>\n",
       "    <tr>\n",
       "      <th>9</th>\n",
       "      <td>This is a crosswalk by a school, and there is ...</td>\n",
       "      <td>sidewalks/ramps don't exist or need improvement</td>\n",
       "      <td>2</td>\n",
       "    </tr>\n",
       "    <tr>\n",
       "      <th>10</th>\n",
       "      <td>So many issues..The main ones are the lane lin...</td>\n",
       "      <td>there are no bike facilities or they need main...</td>\n",
       "      <td>1</td>\n",
       "    </tr>\n",
       "    <tr>\n",
       "      <th>11</th>\n",
       "      <td>They roll into the crosswalk and block bike's ...</td>\n",
       "      <td>people don't yield while going straight</td>\n",
       "      <td>0</td>\n",
       "    </tr>\n",
       "    <tr>\n",
       "      <th>12</th>\n",
       "      <td>They roll into the crosswalk and block bike's ...</td>\n",
       "      <td>people don't yield while turning</td>\n",
       "      <td>0</td>\n",
       "    </tr>\n",
       "    <tr>\n",
       "      <th>13</th>\n",
       "      <td>MBTA bus 35, 36, &amp; 37 drop off passengers at B...</td>\n",
       "      <td>people cross away from the crosswalks</td>\n",
       "      <td>4</td>\n",
       "    </tr>\n",
       "    <tr>\n",
       "      <th>14</th>\n",
       "      <td>Dangerous intersection to cross for pedestrian...</td>\n",
       "      <td>the wait for the Walk signal is too long</td>\n",
       "      <td>0</td>\n",
       "    </tr>\n",
       "    <tr>\n",
       "      <th>15</th>\n",
       "      <td>A lot of the issues apply. Too much traffic go...</td>\n",
       "      <td>of something that is not listed here</td>\n",
       "      <td>3</td>\n",
       "    </tr>\n",
       "    <tr>\n",
       "      <th>16</th>\n",
       "      <td>People turn from both the middle lane (not a t...</td>\n",
       "      <td>of something that is not listed here</td>\n",
       "      <td>3</td>\n",
       "    </tr>\n",
       "    <tr>\n",
       "      <th>17</th>\n",
       "      <td>Dangerous pinch point for cyclists going North...</td>\n",
       "      <td>there are no bike facilities or they need main...</td>\n",
       "      <td>0</td>\n",
       "    </tr>\n",
       "    <tr>\n",
       "      <th>18</th>\n",
       "      <td>Double parking all up and down Broadway.</td>\n",
       "      <td>people double park their vehicles</td>\n",
       "      <td>0</td>\n",
       "    </tr>\n",
       "    <tr>\n",
       "      <th>19</th>\n",
       "      <td>Rampant Double Parking.</td>\n",
       "      <td>people double park their vehicles</td>\n",
       "      <td>0</td>\n",
       "    </tr>\n",
       "    <tr>\n",
       "      <th>20</th>\n",
       "      <td>Double-parking in from of PS gourmet and the l...</td>\n",
       "      <td>people double park their vehicles</td>\n",
       "      <td>0</td>\n",
       "    </tr>\n",
       "    <tr>\n",
       "      <th>21</th>\n",
       "      <td>Pervasive double and occasionally triple parki...</td>\n",
       "      <td>people double park their vehicles</td>\n",
       "      <td>0</td>\n",
       "    </tr>\n",
       "    <tr>\n",
       "      <th>22</th>\n",
       "      <td>The church allows people to park in the median...</td>\n",
       "      <td>people double park their vehicles</td>\n",
       "      <td>3</td>\n",
       "    </tr>\n",
       "    <tr>\n",
       "      <th>23</th>\n",
       "      <td>All up and down Tremont between Mass Ave. and ...</td>\n",
       "      <td>people speed</td>\n",
       "      <td>0</td>\n",
       "    </tr>\n",
       "    <tr>\n",
       "      <th>24</th>\n",
       "      <td>Many more users cross at this crosswalk than d...</td>\n",
       "      <td>the wait for the Walk signal is too long</td>\n",
       "      <td>0</td>\n",
       "    </tr>\n",
       "    <tr>\n",
       "      <th>25</th>\n",
       "      <td>There is so much wrong with this intersection....</td>\n",
       "      <td>of something that is not listed here</td>\n",
       "      <td>0</td>\n",
       "    </tr>\n",
       "    <tr>\n",
       "      <th>26</th>\n",
       "      <td>People park illegally on this corner. which ma...</td>\n",
       "      <td>it’s hard to see / low visibility</td>\n",
       "      <td>3</td>\n",
       "    </tr>\n",
       "    <tr>\n",
       "      <th>27</th>\n",
       "      <td>Parking is permitted on both sides of Navarre ...</td>\n",
       "      <td>of something that is not listed here</td>\n",
       "      <td>2</td>\n",
       "    </tr>\n",
       "    <tr>\n",
       "      <th>28</th>\n",
       "      <td>Major speeding coming down the hill on Dorches...</td>\n",
       "      <td>people speed</td>\n",
       "      <td>0</td>\n",
       "    </tr>\n",
       "    <tr>\n",
       "      <th>29</th>\n",
       "      <td>Drivers see a green light ahead at Cambridge/T...</td>\n",
       "      <td>people don't yield while going straight</td>\n",
       "      <td>2</td>\n",
       "    </tr>\n",
       "    <tr>\n",
       "      <th>...</th>\n",
       "      <td>...</td>\n",
       "      <td>...</td>\n",
       "      <td>...</td>\n",
       "    </tr>\n",
       "    <tr>\n",
       "      <th>6424</th>\n",
       "      <td>Sutherland Road needs a one way arrow painted ...</td>\n",
       "      <td>people run red lights / stop signs</td>\n",
       "      <td>2</td>\n",
       "    </tr>\n",
       "    <tr>\n",
       "      <th>6425</th>\n",
       "      <td>Poor visibility for drivers turning from Gore ...</td>\n",
       "      <td>people speed</td>\n",
       "      <td>0</td>\n",
       "    </tr>\n",
       "    <tr>\n",
       "      <th>6426</th>\n",
       "      <td>People either don't understand, or ignore, fou...</td>\n",
       "      <td>people don't yield while going straight</td>\n",
       "      <td>0</td>\n",
       "    </tr>\n",
       "    <tr>\n",
       "      <th>6427</th>\n",
       "      <td>Safety at this intersection would be hugely im...</td>\n",
       "      <td>people don't yield while going straight</td>\n",
       "      <td>3</td>\n",
       "    </tr>\n",
       "    <tr>\n",
       "      <th>6428</th>\n",
       "      <td>Pedestrians have to cross 5 lanes of traffic p...</td>\n",
       "      <td>people have to cross too many lanes / too far</td>\n",
       "      <td>4</td>\n",
       "    </tr>\n",
       "    <tr>\n",
       "      <th>6429</th>\n",
       "      <td>people block the box</td>\n",
       "      <td>people run red lights / stop signs</td>\n",
       "      <td>0</td>\n",
       "    </tr>\n",
       "    <tr>\n",
       "      <th>6430</th>\n",
       "      <td>No crosswalk on this side of terminal st for p...</td>\n",
       "      <td>people cross away from the crosswalks</td>\n",
       "      <td>0</td>\n",
       "    </tr>\n",
       "    <tr>\n",
       "      <th>6431</th>\n",
       "      <td>Especially in the morning, cars routinely run ...</td>\n",
       "      <td>people run red lights / stop signs</td>\n",
       "      <td>2</td>\n",
       "    </tr>\n",
       "    <tr>\n",
       "      <th>6432</th>\n",
       "      <td>Streetlights are way too low in this area</td>\n",
       "      <td>it’s hard to see / low visibility</td>\n",
       "      <td>0</td>\n",
       "    </tr>\n",
       "    <tr>\n",
       "      <th>6433</th>\n",
       "      <td>This area is so dark, it's actually scary to w...</td>\n",
       "      <td>it’s hard to see / low visibility</td>\n",
       "      <td>0</td>\n",
       "    </tr>\n",
       "    <tr>\n",
       "      <th>6434</th>\n",
       "      <td>People speed up and down the hill not paying a...</td>\n",
       "      <td>people speed</td>\n",
       "      <td>1</td>\n",
       "    </tr>\n",
       "    <tr>\n",
       "      <th>6435</th>\n",
       "      <td>This stretch of Savin Hill Ave is a one-way st...</td>\n",
       "      <td>people speed</td>\n",
       "      <td>3</td>\n",
       "    </tr>\n",
       "    <tr>\n",
       "      <th>6436</th>\n",
       "      <td>The light is extremely confusing for both pede...</td>\n",
       "      <td>the wait for the Walk signal is too long</td>\n",
       "      <td>2</td>\n",
       "    </tr>\n",
       "    <tr>\n",
       "      <th>6437</th>\n",
       "      <td>This new light takes way too long and causes m...</td>\n",
       "      <td>of something that is not listed here</td>\n",
       "      <td>0</td>\n",
       "    </tr>\n",
       "    <tr>\n",
       "      <th>6438</th>\n",
       "      <td>Almost got hit again crossing Tremont.  Car in...</td>\n",
       "      <td>people have to cross too many lanes / too far</td>\n",
       "      <td>1</td>\n",
       "    </tr>\n",
       "    <tr>\n",
       "      <th>6439</th>\n",
       "      <td>Very consistent speeding on this street makes ...</td>\n",
       "      <td>people speed</td>\n",
       "      <td>0</td>\n",
       "    </tr>\n",
       "    <tr>\n",
       "      <th>6440</th>\n",
       "      <td>People constantly speeding through this area, ...</td>\n",
       "      <td>people speed</td>\n",
       "      <td>4</td>\n",
       "    </tr>\n",
       "    <tr>\n",
       "      <th>6441</th>\n",
       "      <td>There's a large grey Chevrolet pick up parked ...</td>\n",
       "      <td>it’s hard to see / low visibility</td>\n",
       "      <td>4</td>\n",
       "    </tr>\n",
       "    <tr>\n",
       "      <th>6442</th>\n",
       "      <td>Put stop sign here, no one yields to pedestria...</td>\n",
       "      <td>of something that is not listed here</td>\n",
       "      <td>4</td>\n",
       "    </tr>\n",
       "    <tr>\n",
       "      <th>6443</th>\n",
       "      <td>This whole area is a disaster for drivers, bik...</td>\n",
       "      <td>of something that is not listed here</td>\n",
       "      <td>3</td>\n",
       "    </tr>\n",
       "    <tr>\n",
       "      <th>6444</th>\n",
       "      <td>This light is too long with too many signals. ...</td>\n",
       "      <td>of something that is not listed here</td>\n",
       "      <td>1</td>\n",
       "    </tr>\n",
       "    <tr>\n",
       "      <th>6445</th>\n",
       "      <td>This is a heavily trafficked crosswalk for stu...</td>\n",
       "      <td>people don't yield while going straight</td>\n",
       "      <td>3</td>\n",
       "    </tr>\n",
       "    <tr>\n",
       "      <th>6446</th>\n",
       "      <td>I cross Boylston Street often as I live in the...</td>\n",
       "      <td>people run red lights / stop signs</td>\n",
       "      <td>1</td>\n",
       "    </tr>\n",
       "    <tr>\n",
       "      <th>6447</th>\n",
       "      <td>Drivers approaching from either side of hill c...</td>\n",
       "      <td>it’s hard to see / low visibility</td>\n",
       "      <td>2</td>\n",
       "    </tr>\n",
       "    <tr>\n",
       "      <th>6448</th>\n",
       "      <td>I work for the District 5 City Councilor Tim M...</td>\n",
       "      <td>people speed</td>\n",
       "      <td>3</td>\n",
       "    </tr>\n",
       "    <tr>\n",
       "      <th>6449</th>\n",
       "      <td>People double park picking up/dropping off kid...</td>\n",
       "      <td>it’s hard to see / low visibility</td>\n",
       "      <td>4</td>\n",
       "    </tr>\n",
       "    <tr>\n",
       "      <th>6450</th>\n",
       "      <td>I need to avoid this street on weekdays betwee...</td>\n",
       "      <td>people speed</td>\n",
       "      <td>0</td>\n",
       "    </tr>\n",
       "    <tr>\n",
       "      <th>6451</th>\n",
       "      <td>Cars in the morning drive down the hill going ...</td>\n",
       "      <td>people speed</td>\n",
       "      <td>1</td>\n",
       "    </tr>\n",
       "    <tr>\n",
       "      <th>6452</th>\n",
       "      <td>People do not yield to pedestrians while turni...</td>\n",
       "      <td>people don't yield while turning</td>\n",
       "      <td>4</td>\n",
       "    </tr>\n",
       "    <tr>\n",
       "      <th>6453</th>\n",
       "      <td>This intersection is really dangerous.  There ...</td>\n",
       "      <td>it’s hard to see / low visibility</td>\n",
       "      <td>4</td>\n",
       "    </tr>\n",
       "  </tbody>\n",
       "</table>\n",
       "<p>6454 rows × 3 columns</p>\n",
       "</div>"
      ],
      "text/plain": [
       "                                               COMMENTS  \\\n",
       "0     Broadway Bridge is wide & off highway ramps. V...   \n",
       "1     This intersection is dangerous. Cars don't fol...   \n",
       "2     It's terrifying to walk over here. It seems li...   \n",
       "3     cars coming around the corner of this wide one...   \n",
       "4     as you come off the bike path, it's unclear ho...   \n",
       "5                  This intersection is very confusing.   \n",
       "6     people walking go against the light because we...   \n",
       "7     Getting from the T stop to the pedestrian brid...   \n",
       "8     I will be coming down to the intersection alon...   \n",
       "9     This is a crosswalk by a school, and there is ...   \n",
       "10    So many issues..The main ones are the lane lin...   \n",
       "11    They roll into the crosswalk and block bike's ...   \n",
       "12    They roll into the crosswalk and block bike's ...   \n",
       "13    MBTA bus 35, 36, & 37 drop off passengers at B...   \n",
       "14    Dangerous intersection to cross for pedestrian...   \n",
       "15    A lot of the issues apply. Too much traffic go...   \n",
       "16    People turn from both the middle lane (not a t...   \n",
       "17    Dangerous pinch point for cyclists going North...   \n",
       "18             Double parking all up and down Broadway.   \n",
       "19                              Rampant Double Parking.   \n",
       "20    Double-parking in from of PS gourmet and the l...   \n",
       "21    Pervasive double and occasionally triple parki...   \n",
       "22    The church allows people to park in the median...   \n",
       "23    All up and down Tremont between Mass Ave. and ...   \n",
       "24    Many more users cross at this crosswalk than d...   \n",
       "25    There is so much wrong with this intersection....   \n",
       "26    People park illegally on this corner. which ma...   \n",
       "27    Parking is permitted on both sides of Navarre ...   \n",
       "28    Major speeding coming down the hill on Dorches...   \n",
       "29    Drivers see a green light ahead at Cambridge/T...   \n",
       "...                                                 ...   \n",
       "6424  Sutherland Road needs a one way arrow painted ...   \n",
       "6425  Poor visibility for drivers turning from Gore ...   \n",
       "6426  People either don't understand, or ignore, fou...   \n",
       "6427  Safety at this intersection would be hugely im...   \n",
       "6428  Pedestrians have to cross 5 lanes of traffic p...   \n",
       "6429                               people block the box   \n",
       "6430  No crosswalk on this side of terminal st for p...   \n",
       "6431  Especially in the morning, cars routinely run ...   \n",
       "6432          Streetlights are way too low in this area   \n",
       "6433  This area is so dark, it's actually scary to w...   \n",
       "6434  People speed up and down the hill not paying a...   \n",
       "6435  This stretch of Savin Hill Ave is a one-way st...   \n",
       "6436  The light is extremely confusing for both pede...   \n",
       "6437  This new light takes way too long and causes m...   \n",
       "6438  Almost got hit again crossing Tremont.  Car in...   \n",
       "6439  Very consistent speeding on this street makes ...   \n",
       "6440  People constantly speeding through this area, ...   \n",
       "6441  There's a large grey Chevrolet pick up parked ...   \n",
       "6442  Put stop sign here, no one yields to pedestria...   \n",
       "6443  This whole area is a disaster for drivers, bik...   \n",
       "6444  This light is too long with too many signals. ...   \n",
       "6445  This is a heavily trafficked crosswalk for stu...   \n",
       "6446  I cross Boylston Street often as I live in the...   \n",
       "6447  Drivers approaching from either side of hill c...   \n",
       "6448  I work for the District 5 City Councilor Tim M...   \n",
       "6449  People double park picking up/dropping off kid...   \n",
       "6450  I need to avoid this street on weekdays betwee...   \n",
       "6451  Cars in the morning drive down the hill going ...   \n",
       "6452  People do not yield to pedestrians while turni...   \n",
       "6453  This intersection is really dangerous.  There ...   \n",
       "\n",
       "                                            REQUESTTYPE CLUSTER  \n",
       "0     there are no bike facilities or they need main...       4  \n",
       "1                  of something that is not listed here       4  \n",
       "2               people don't yield while going straight       4  \n",
       "3                     it’s hard to see / low visibility       1  \n",
       "4                      people don't yield while turning       4  \n",
       "5                  of something that is not listed here       0  \n",
       "6              the wait for the Walk signal is too long       0  \n",
       "7              the wait for the Walk signal is too long       1  \n",
       "8                      people don't yield while turning       4  \n",
       "9       sidewalks/ramps don't exist or need improvement       2  \n",
       "10    there are no bike facilities or they need main...       1  \n",
       "11              people don't yield while going straight       0  \n",
       "12                     people don't yield while turning       0  \n",
       "13                people cross away from the crosswalks       4  \n",
       "14             the wait for the Walk signal is too long       0  \n",
       "15                 of something that is not listed here       3  \n",
       "16                 of something that is not listed here       3  \n",
       "17    there are no bike facilities or they need main...       0  \n",
       "18                    people double park their vehicles       0  \n",
       "19                    people double park their vehicles       0  \n",
       "20                    people double park their vehicles       0  \n",
       "21                    people double park their vehicles       0  \n",
       "22                    people double park their vehicles       3  \n",
       "23                                         people speed       0  \n",
       "24             the wait for the Walk signal is too long       0  \n",
       "25                 of something that is not listed here       0  \n",
       "26                    it’s hard to see / low visibility       3  \n",
       "27                 of something that is not listed here       2  \n",
       "28                                         people speed       0  \n",
       "29              people don't yield while going straight       2  \n",
       "...                                                 ...     ...  \n",
       "6424                 people run red lights / stop signs       2  \n",
       "6425                                       people speed       0  \n",
       "6426            people don't yield while going straight       0  \n",
       "6427            people don't yield while going straight       3  \n",
       "6428      people have to cross too many lanes / too far       4  \n",
       "6429                 people run red lights / stop signs       0  \n",
       "6430              people cross away from the crosswalks       0  \n",
       "6431                 people run red lights / stop signs       2  \n",
       "6432                  it’s hard to see / low visibility       0  \n",
       "6433                  it’s hard to see / low visibility       0  \n",
       "6434                                       people speed       1  \n",
       "6435                                       people speed       3  \n",
       "6436           the wait for the Walk signal is too long       2  \n",
       "6437               of something that is not listed here       0  \n",
       "6438      people have to cross too many lanes / too far       1  \n",
       "6439                                       people speed       0  \n",
       "6440                                       people speed       4  \n",
       "6441                  it’s hard to see / low visibility       4  \n",
       "6442               of something that is not listed here       4  \n",
       "6443               of something that is not listed here       3  \n",
       "6444               of something that is not listed here       1  \n",
       "6445            people don't yield while going straight       3  \n",
       "6446                 people run red lights / stop signs       1  \n",
       "6447                  it’s hard to see / low visibility       2  \n",
       "6448                                       people speed       3  \n",
       "6449                  it’s hard to see / low visibility       4  \n",
       "6450                                       people speed       0  \n",
       "6451                                       people speed       1  \n",
       "6452                   people don't yield while turning       4  \n",
       "6453                  it’s hard to see / low visibility       4  \n",
       "\n",
       "[6454 rows x 3 columns]"
      ]
     },
     "execution_count": 53,
     "metadata": {},
     "output_type": "execute_result"
    }
   ],
   "source": [
    "comparison"
   ]
  },
  {
   "cell_type": "markdown",
   "metadata": {},
   "source": [
    "This is a mapping of our documents to cluster classifications from the k-means algorithm (5 centroids employed). We observed from this table that the mapping was unreliable and later you will see an ARI score that reflects this."
   ]
  },
  {
   "cell_type": "code",
   "execution_count": 70,
   "metadata": {
    "collapsed": true
   },
   "outputs": [],
   "source": [
    "def print_top_words(model, feature_names, n_top_words):\n",
    "    for topic_idx, topic in enumerate(model.components_):\n",
    "        print(\"Topic #%d:\" % topic_idx)\n",
    "        print(\" \".join([feature_names[i]\n",
    "                        for i in topic.argsort()[:-n_top_words - 1:-1]]))\n",
    "    print()"
   ]
  },
  {
   "cell_type": "code",
   "execution_count": 71,
   "metadata": {
    "collapsed": false
   },
   "outputs": [],
   "source": [
    "def nmf(X, n_samples, n_features, n_topics, n_top_words):\n",
    "    data_samples = X\n",
    "    tfidf_vectorizer = TfidfVectorizer(min_df=5, max_features=n_features, stop_words='english')\n",
    "    tfidf = tfidf_vectorizer.fit_transform(data_samples)\n",
    "    tf_vectorizer = CountVectorizer(min_df=5,max_features=n_features, stop_words='english')\n",
    "    nmf = NMF(n_components=n_topics, random_state=1,alpha=.1, l1_ratio=.5).fit(tfidf)\n",
    "    tfidf_feature_names = tfidf_vectorizer.get_feature_names()\n",
    "    print_top_words(nmf, tfidf_feature_names, n_top_words)\n",
    "    \n",
    "    return tf_vectorizer"
   ]
  },
  {
   "cell_type": "code",
   "execution_count": 72,
   "metadata": {
    "collapsed": false
   },
   "outputs": [
    {
     "name": "stdout",
     "output_type": "stream",
     "text": [
      "Topic #0:\n",
      "pedestrians stop light walk cars crosswalk drivers cross red sign yield intersection don turn right signal turning run st crossing\n",
      "Topic #1:\n",
      "bike lane lanes left right turn cars need traffic straight park double road facilities bikes parked parking dangerous needs ave\n",
      "Topic #2:\n",
      "street people way speed park drive road fast cars parking traffic wrong dangerous sidewalk narrow double cut area st sidewalks\n",
      "\n"
     ]
    }
   ],
   "source": [
    "tf_vectorizer = nmf(X, n_samples = 8535, n_features = 1613, n_topics = 3, n_top_words = 20)"
   ]
  },
  {
   "cell_type": "markdown",
   "metadata": {},
   "source": [
    "These topics have words which have cohesive meaning and an intuitive label can be made. Topic 0 is in regards to unsafe intersections, topic 1 is for unsafe cycling conditions, and topic 2 is in regards to unsafe road conditions. We tried running the NMF with a higher quantity of desired topics but found that the intuitive meanings to the topics became diluted and unclear. Therefore we thought these less granular labels may be of use."
   ]
  },
  {
   "cell_type": "code",
   "execution_count": 73,
   "metadata": {
    "collapsed": true
   },
   "outputs": [],
   "source": [
    "# For every unique value in REQUESTTYPE we relablled and encoded our classes from zero to 13.\n",
    "\n",
    "y_labeled = y.replace('it’s hard to see / low visibility',0)\n",
    "y_labeled.replace('of something that is not listed here',1, inplace=True)\n",
    "y_labeled.replace('people are not given enough time to cross the street',2, inplace=True)\n",
    "y_labeled.replace('people cross away from the crosswalks',3, inplace=True)\n",
    "y_labeled.replace(\"people don't yield while going straight\",4, inplace=True)\n",
    "y_labeled.replace(\"people don't yield while turning\",5, inplace=True)\n",
    "y_labeled.replace('people double park their vehicles',6, inplace=True)\n",
    "y_labeled.replace('people have to cross too many lanes / too far',7, inplace=True)\n",
    "y_labeled.replace('people run red lights / stop signs',8, inplace=True)\n",
    "y_labeled.replace('people speed',9, inplace=True)\n",
    "y_labeled.replace(\"sidewalks/ramps don't exist or need improvement\",10, inplace=True)\n",
    "y_labeled.replace('the roadway surface needs maintenance',11, inplace=True)\n",
    "y_labeled.replace('the wait for the Walk signal is too long',12, inplace=True)\n",
    "y_labeled.replace('there are no bike facilities or they need maintenance',13, inplace=True)"
   ]
  },
  {
   "cell_type": "code",
   "execution_count": 1,
   "metadata": {
    "collapsed": false
   },
   "outputs": [
    {
     "ename": "NameError",
     "evalue": "name 'y_labeled' is not defined",
     "output_type": "error",
     "traceback": [
      "\u001b[0;31m---------------------------------------------------------------------------\u001b[0m",
      "\u001b[0;31mNameError\u001b[0m                                 Traceback (most recent call last)",
      "\u001b[0;32m<ipython-input-1-ec21223f32ef>\u001b[0m in \u001b[0;36m<module>\u001b[0;34m()\u001b[0m\n\u001b[0;32m----> 1\u001b[0;31m \u001b[0my_labeled\u001b[0m\u001b[1;33m\u001b[0m\u001b[0m\n\u001b[0m",
      "\u001b[0;31mNameError\u001b[0m: name 'y_labeled' is not defined"
     ]
    }
   ],
   "source": [
    "y_labeled"
   ]
  },
  {
   "cell_type": "code",
   "execution_count": 74,
   "metadata": {
    "collapsed": false
   },
   "outputs": [],
   "source": [
    "# with our enumerated labels, we now replace them with our NMF topic labels.\n",
    "\n",
    "nmf_labeled = y_labeled.replace(1,14)\n",
    "nmf_labeled.replace(3, 2, inplace = True)\n",
    "nmf_labeled.replace(4, 0, inplace = True)\n",
    "nmf_labeled.replace(5, 0, inplace = True)\n",
    "nmf_labeled.replace(6, 1, inplace = True)\n",
    "nmf_labeled.replace(7, 0, inplace = True)\n",
    "nmf_labeled.replace(8, 0, inplace = True)\n",
    "nmf_labeled.replace(9, 2, inplace = True)\n",
    "nmf_labeled.replace(10, 0, inplace = True)\n",
    "nmf_labeled.replace(11, 2, inplace = True)\n",
    "nmf_labeled.replace(12, 2, inplace = True)\n",
    "nmf_labeled.replace(13, 0, inplace = True)\n",
    "\n",
    "# Topic 0 = unsafe intersections\n",
    "# Topic 1 = unsafe cyclist conditions\n",
    "# Topic 2 = unsafe road conditions`\n",
    "\n",
    "# 'there are no bike facilities or they need maintenance' = unsafe cyclist conditions 0, 0\n",
    "# 'of something that is not listed here' = other # replace randomly with one of the classes\n",
    "# \"sidewalks/ramps don't exist or need improvement\" = unsafe road conditions 2, 2\n",
    "# 'it’s hard to see / low visibility' = unsafe road conditions 3, 2\n",
    "# 'people are not given enough time to cross the street' = unsafe intersections 4, 0\n",
    "# \"people don't yield while going straight\" = unsafe intersections 5, 0\n",
    "# 'people double park their vehicles' = unsafe cyclist conditions 6, 1\n",
    "# 'people cross away from the crosswalks' = unsafe intersections 7, 0\n",
    "# 'people run red lights / stop signs' = unsafe intersections 8, 0\n",
    "# 'people speed' =  unsafe road conditions 9, 2\n",
    "# 'the wait for the Walk signal is too long' = unsafe intersections 10, 0\n",
    "# 'people have to cross too many lanes / too far' = unsafe road conditions 11, 2\n",
    "# 'the roadway surface needs maintenance' = unsafe road conditions 12, 2\n",
    "# \"people don't yield while turning\" = unsafe intersections 13, 0"
   ]
  },
  {
   "cell_type": "code",
   "execution_count": 75,
   "metadata": {
    "collapsed": false
   },
   "outputs": [],
   "source": [
    "def LatentDirichlet(X, n_topics, n_features, n_top_words):\n",
    "    tf = tf_vectorizer.fit_transform(X)\n",
    "    lda = LatentDirichletAllocation(n_topics=n_topics, max_iter=5, learning_method='online', learning_offset=50., random_state=1)\n",
    "    lda.fit(tf)\n",
    "    tf_feature_names = tf_vectorizer.get_feature_names()\n",
    "    print_top_words(lda, tf_feature_names, n_top_words)"
   ]
  },
  {
   "cell_type": "code",
   "execution_count": 76,
   "metadata": {
    "collapsed": false
   },
   "outputs": [
    {
     "name": "stdout",
     "output_type": "stream",
     "text": [
      "Topic #0:\n",
      "stop pedestrians light cross cars people crosswalk drivers walk red sign intersection crossing yield don run lights street traffic right\n",
      "Topic #1:\n",
      "school speed traffic trucks rush kids morning hour cycle bicyclists lots st block buses need limit blocking hours bike zone\n",
      "Topic #2:\n",
      "parking park double street people lot children cars parked near police corner traffic neighborhood constantly safety area lines live frequently\n",
      "Topic #3:\n",
      "ave road bridge sidewalk comm mass traffic bike construction safe ramp biking potholes dorchester surface moving unsafe large bikes backs\n",
      "Topic #4:\n",
      "street way cars people drive road speed sidewalk fast traffic sidewalks dangerous speeding area narrow parked needs wrong coming walk\n",
      "Topic #5:\n",
      "lane bike right lanes left turn cars needs cyclists straight intersection need traffic drivers bikers dangerous turning people better car\n",
      "Topic #6:\n",
      "people bike use lanes day road street speed dangerous cut park avoid bikes center like space curb cars vehicles bicycle\n",
      "Topic #7:\n",
      "st left traffic turn intersection cars south washington make wait turning path signal going way coming long west walk street\n",
      "\n"
     ]
    }
   ],
   "source": [
    "LatentDirichlet(X, n_topics = 8, n_features = 1613, n_top_words = 20)"
   ]
  },
  {
   "cell_type": "code",
   "execution_count": 77,
   "metadata": {
    "collapsed": false
   },
   "outputs": [
    {
     "data": {
      "text/plain": [
       "['it’s hard to see / low visibility',\n",
       " 'of something that is not listed here',\n",
       " 'people are not given enough time to cross the street',\n",
       " 'people cross away from the crosswalks',\n",
       " \"people don't yield while going straight\",\n",
       " \"people don't yield while turning\",\n",
       " 'people double park their vehicles',\n",
       " 'people have to cross too many lanes / too far',\n",
       " 'people run red lights / stop signs',\n",
       " 'people speed',\n",
       " \"sidewalks/ramps don't exist or need improvement\",\n",
       " 'the roadway surface needs maintenance',\n",
       " 'the wait for the Walk signal is too long',\n",
       " 'there are no bike facilities or they need maintenance']"
      ]
     },
     "execution_count": 77,
     "metadata": {},
     "output_type": "execute_result"
    }
   ],
   "source": [
    "list(np.unique(y))"
   ]
  },
  {
   "cell_type": "code",
   "execution_count": 78,
   "metadata": {
    "collapsed": true
   },
   "outputs": [],
   "source": [
    "lda_labeled = y_labeled.replace(1, 14)\n",
    "lda_labeled.replace(0, 3, inplace = True)\n",
    "lda_labeled.replace(2, 7, inplace = True)\n",
    "lda_labeled.replace(3, 7, inplace = True)\n",
    "lda_labeled.replace(4, 2, inplace = True)\n",
    "lda_labeled.replace(5, 4, inplace = True)\n",
    "lda_labeled.replace(6, 0, inplace = True)\n",
    "lda_labeled.replace(7, 1, inplace = True)\n",
    "lda_labeled.replace(8, 1, inplace = True)\n",
    "lda_labeled.replace(9, 5, inplace = True)\n",
    "lda_labeled.replace(10, 0, inplace = True)\n",
    "lda_labeled.replace(11, 3, inplace = True)\n",
    "lda_labeled.replace(12, 7, inplace = True)\n",
    "lda_labeled.replace(13, 6, inplace = True)\n",
    "\n",
    "# Topic #0: accessibility \n",
    "# Topic #1: unsafe intersections \n",
    "# Topic #2: school zone danger \n",
    "# Topic #3: poor road conditions \n",
    "# Topic #4: dangerous turns\n",
    "# Topic #5: dangerous driving\n",
    "# Topic #6: cyclist safety\n",
    "# Topic #7: poor signals/signage\n",
    "\n",
    "#  [it’s hard to see / low visibility', = Topic 1, 3\n",
    "#  'of something that is not listed here', = other\n",
    "#  'people are not given enough time to cross the street', = Topic 3, 7\n",
    "#  'people cross away from the crosswalks', = Topic 4, 7\n",
    "#  \"people don't yield while going straight\", = Topic 5, 2\n",
    "#  \"people don't yield while turning\", = Topic 6, 4\n",
    "#  'people double park their vehicles', = Topic 7, 0\n",
    "#  'people have to cross too many lanes / too far', = Topic 8, 1\n",
    "#  'people run red lights / stop signs', = Topic 9, 1\n",
    "#  'people speed', = Topic 10, 5\n",
    "#  \"sidewalks/ramps don't exist or need improvement\", = Topic Topic 11, 0\n",
    "#  'the roadway surface needs maintenance', = Topic 12, 3\n",
    "#  'the wait for the Walk signal is too long', = Topic 13, 7\n",
    "#  'there are no bike facilities or they need maintenance'] = Topic 14, 6"
   ]
  },
  {
   "cell_type": "code",
   "execution_count": 79,
   "metadata": {
    "collapsed": false
   },
   "outputs": [
    {
     "name": "stdout",
     "output_type": "stream",
     "text": [
      "K-Means ARI Score: 0.004145856222873624\n",
      "NMF ARI Score: 0.3922300304541313\n",
      "LDA ARI Score: 0.7916194759821976\n"
     ]
    }
   ],
   "source": [
    "print(\"K-Means ARI Score: {}\".format(adjusted_rand_score(y_labeled, y_pred)))\n",
    "\n",
    "print(\"NMF ARI Score: {}\".format(adjusted_rand_score(y_labeled, nmf_labeled)))\n",
    "\n",
    "print(\"LDA ARI Score: {}\".format(adjusted_rand_score(y_labeled, lda_labeled)))"
   ]
  },
  {
   "cell_type": "markdown",
   "metadata": {},
   "source": [
    "While NMF provided a decent macro-level clustering of the data, it's not likely that three clusters is very informative for users. The ARI score, which is a measure of how similar our labels are to the clusters, registered with a strong score for both LDA and NMF. Using LDA we were able to extrapolate a new set of class labels which provide a new perspective on the complaints that may be of use to the users of this dataset. We believe the LDA clusters have more usability and futhermore the ARI score suggests there is a good relationship between our clusters and the original labels."
   ]
  },
  {
   "cell_type": "code",
   "execution_count": 80,
   "metadata": {
    "collapsed": false
   },
   "outputs": [],
   "source": [
    "assert adjusted_rand_score(y_labeled, lda_labeled) > .74\n",
    "assert adjusted_rand_score(y_labeled, nmf_labeled) > .37\n",
    "assert adjusted_rand_score(y_labeled, y_pred) > .002"
   ]
  },
  {
   "cell_type": "markdown",
   "metadata": {},
   "source": [
    "# Task6 - Model 3 [30 points]"
   ]
  },
  {
   "cell_type": "markdown",
   "metadata": {},
   "source": [
    "Improve the class definition for REQUESTTYPE by using the results of the clustering and results of the previous classification model. Re-assign labels using either the results of clustering or using keywords that you found during data exploration. The labels must be semantically meaningful.\n",
    "The data has a large “other” category. Apply the topic modeling and clustering techniques to this subset of the data to find possible splits of this class.\n",
    "Report accuracy using macro average f1 score (should be above .53) \n"
   ]
  },
  {
   "cell_type": "code",
   "execution_count": 81,
   "metadata": {
    "collapsed": false
   },
   "outputs": [],
   "source": [
    "# Add your code for task 6 here. You may use multiple cells. \n",
    "\n",
    "X_other = pd.DataFrame(np.concatenate([X.reshape(len(X),1), y.reshape(len(y),1), ], axis = 1))\n",
    "X_other.columns = ['X', 'y']\n",
    "X_other = X_other[X_other['y'] == 'of something that is not listed here']\n",
    "X_other = X_other.X"
   ]
  },
  {
   "cell_type": "code",
   "execution_count": 82,
   "metadata": {
    "collapsed": false
   },
   "outputs": [],
   "source": [
    "def lda2(X, n_topics, n_features, n_top_words):\n",
    "    tf_vectorizer = CountVectorizer(min_df=5,max_features=n_features, stop_words='english')\n",
    "    tf = tf_vectorizer.fit_transform(X)\n",
    "    lda = LatentDirichletAllocation(n_topics=n_topics, max_iter=5, learning_method='online', learning_offset=50., random_state=0)\n",
    "    lda.fit(tf)\n",
    "\n",
    "    tf_feature_names = tf_vectorizer.get_feature_names()\n",
    "    print_top_words(lda, tf_feature_names, n_top_words)"
   ]
  },
  {
   "cell_type": "code",
   "execution_count": 83,
   "metadata": {
    "collapsed": false
   },
   "outputs": [
    {
     "name": "stdout",
     "output_type": "stream",
     "text": [
      "Topic #0:\n",
      "people way cars traffic street intersection cross walk crosswalk road stop park dangerous lane sidewalk light lights sign pedestrians bike\n",
      "Topic #1:\n",
      "turn left lane cars right street st traffic light ave drivers lanes intersection pedestrians way straight turning green people bike\n",
      "Topic #2:\n",
      "parking stop bus drivers lot area buses street st school signs pedestrians park traffic trucks streets used sidewalks safety station\n",
      "\n"
     ]
    }
   ],
   "source": [
    "lda2(X_other, n_topics = 3, n_features = 1613, n_top_words = 20)"
   ]
  },
  {
   "cell_type": "markdown",
   "metadata": {},
   "source": [
    "We ran an LDA on the 'that is not listed here' label ('other'). From this LDA we found the most intuitive and semantically meaningful topics with three clusters. The new topics are as folows --\n",
    "\n",
    "Topic 0: pertains to unsafe intersections, a label which has appeared in both our original NMF and LDA models. \n",
    "Topic 1: pertains to poor signals/signage, this label is also seen in the original LDA model.\n",
    "Topic 2: pertains to school zone danger.\n",
    "\n",
    "We believe the reason why these latent topics were not appropraitely classified in the original y target is due to poor data entry on part of the Boston DOT."
   ]
  },
  {
   "cell_type": "code",
   "execution_count": 84,
   "metadata": {
    "collapsed": true
   },
   "outputs": [],
   "source": [
    "def global_lda_model(X, nmf_labeled):\n",
    "    \n",
    "    X_train, X_test, y_train, y_test = train_test_split(X, nmf_labeled, stratify = nmf_labeled, random_state = 0)\n",
    "    \n",
    "    pipe = make_pipeline(CountVectorizer(), LogisticRegression())\n",
    "    param_grid = {'countvectorizer__ngram_range': [(1, 1), (1, 2),(1, 3)],\n",
    "                 'countvectorizer__min_df': [1,3,5]}\n",
    "    grid = GridSearchCV(pipe, param_grid, scoring = 'f1_macro', cv = 3)\n",
    "    grid.fit(X_train, y_train)\n",
    "    best_score = grid.best_score_\n",
    "    y_pred = grid.predict(X_test)\n",
    "    macro = f1_score(y_test, y_pred, average=\"macro\")\n",
    "    micro = f1_score(y_test, y_pred, average=\"micro\")\n",
    "    confusion = confusion_matrix(y_test, y_pred)\n",
    "    \n",
    "    return best_score, macro, micro, confusion, grid \n",
    "\n",
    "# best_grid_score: 0.568\n",
    "# test_macro: 0.588\n",
    "# test_micro: 0.614"
   ]
  },
  {
   "cell_type": "code",
   "execution_count": 85,
   "metadata": {
    "collapsed": false
   },
   "outputs": [],
   "source": [
    "# best_score_lda, macro_lda, micro_lda, confusion_lda, grid_lda = global_lda_model(X, lda_labeled)\n",
    "# gridsearch_summary(best_score_lda, macro_lda, micro_lda)"
   ]
  },
  {
   "cell_type": "code",
   "execution_count": null,
   "metadata": {
    "collapsed": true
   },
   "outputs": [],
   "source": [
    "def global_nmf_model(X, nmf_labeled):\n",
    "    \n",
    "    X_train, X_test, y_train, y_test = train_test_split(X, nmf_labeled, stratify = nmf_labeled, random_state = 0)\n",
    "    \n",
    "    pipe = make_pipeline(CountVectorizer(), LogisticRegression())\n",
    "    param_grid = {'countvectorizer__ngram_range': [(1, 1), (1, 2),(1, 3)],\n",
    "                 'countvectorizer__min_df': [1,3,5]}\n",
    "    grid = GridSearchCV(pipe, param_grid, scoring = 'f1_macro', cv = 3)\n",
    "    grid.fit(X_train, y_train)\n",
    "    best_score = grid.best_score_\n",
    "    y_pred = grid.predict(X_test)\n",
    "    macro = f1_score(y_test, y_pred, average=\"macro\")\n",
    "    micro = f1_score(y_test, y_pred, average=\"micro\")\n",
    "    confusion = confusion_matrix(y_test, y_pred)\n",
    "    \n",
    "    return best_score, macro, micro, confusion, grid \n",
    "\n",
    "# best_grid_score: 0.646\n",
    "# test_macro: 0.633\n",
    "# test_micro: 0.657"
   ]
  },
  {
   "cell_type": "code",
   "execution_count": null,
   "metadata": {
    "collapsed": false
   },
   "outputs": [],
   "source": [
    "best_score_nmf, macro_nmf, micro_nmf, confusion_nmf, grid_nmf = global_nmf_model(X, nmf_labeled)\n",
    "gridsearch_summary(best_score_nmf, macro_nmf, micro_nmf)"
   ]
  },
  {
   "cell_type": "markdown",
   "metadata": {},
   "source": [
    "The global NMF model, which incorporates our updates, ultimately provided the best unsupervised topic predictions. An interesting point to be made that we used NMF on the entire dataset but LDA to relabel the 'other' category. This method proved to provide the strongest F1-Macro score."
   ]
  },
  {
   "cell_type": "code",
   "execution_count": null,
   "metadata": {
    "collapsed": false
   },
   "outputs": [],
   "source": [
    "assert macro_nmf > .63"
   ]
  }
 ],
 "metadata": {
  "anaconda-cloud": {},
  "kernelspec": {
   "display_name": "Python [conda root]",
   "language": "python",
   "name": "conda-root-py"
  },
  "language_info": {
   "codemirror_mode": {
    "name": "ipython",
    "version": 3
   },
   "file_extension": ".py",
   "mimetype": "text/x-python",
   "name": "python",
   "nbconvert_exporter": "python",
   "pygments_lexer": "ipython3",
   "version": "3.5.2"
  }
 },
 "nbformat": 4,
 "nbformat_minor": 1
}
